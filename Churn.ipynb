{
 "cells": [
  {
   "cell_type": "markdown",
   "id": "4fb2eb74",
   "metadata": {},
   "source": [
    "# Churn Prediction Using ML\n",
    "#### Jerry Anto M, gmail: jerryanto.anthoni@gmail.com, Mobile.no:9894210725"
   ]
  },
  {
   "cell_type": "markdown",
   "id": "47feb3a4",
   "metadata": {},
   "source": [
    "### Importing Data"
   ]
  },
  {
   "cell_type": "code",
   "execution_count": 1,
   "id": "ee546f72",
   "metadata": {},
   "outputs": [],
   "source": [
    "import pandas as pd"
   ]
  },
  {
   "cell_type": "code",
   "execution_count": 2,
   "id": "a67dc8f9",
   "metadata": {},
   "outputs": [],
   "source": [
    "### importing data\n",
    "df=pd.read_excel('churn.xlsx')"
   ]
  },
  {
   "cell_type": "code",
   "execution_count": 3,
   "id": "787c0604",
   "metadata": {},
   "outputs": [
    {
     "name": "stdout",
     "output_type": "stream",
     "text": [
      "<class 'pandas.core.frame.DataFrame'>\n",
      "RangeIndex: 100000 entries, 0 to 99999\n",
      "Data columns (total 9 columns):\n",
      " #   Column                      Non-Null Count   Dtype  \n",
      "---  ------                      --------------   -----  \n",
      " 0   CustomerID                  100000 non-null  int64  \n",
      " 1   Name                        100000 non-null  object \n",
      " 2   Age                         100000 non-null  int64  \n",
      " 3   Gender                      100000 non-null  object \n",
      " 4   Location                    100000 non-null  object \n",
      " 5   Subscription_Length_Months  100000 non-null  int64  \n",
      " 6   Monthly_Bill                100000 non-null  float64\n",
      " 7   Total_Usage_GB              100000 non-null  int64  \n",
      " 8   Churn                       100000 non-null  int64  \n",
      "dtypes: float64(1), int64(5), object(3)\n",
      "memory usage: 6.9+ MB\n",
      "None\n"
     ]
    }
   ],
   "source": [
    "print(df.info())"
   ]
  },
  {
   "cell_type": "code",
   "execution_count": 4,
   "id": "8f5db4cf",
   "metadata": {},
   "outputs": [
    {
     "data": {
      "text/html": [
       "<div>\n",
       "<style scoped>\n",
       "    .dataframe tbody tr th:only-of-type {\n",
       "        vertical-align: middle;\n",
       "    }\n",
       "\n",
       "    .dataframe tbody tr th {\n",
       "        vertical-align: top;\n",
       "    }\n",
       "\n",
       "    .dataframe thead th {\n",
       "        text-align: right;\n",
       "    }\n",
       "</style>\n",
       "<table border=\"1\" class=\"dataframe\">\n",
       "  <thead>\n",
       "    <tr style=\"text-align: right;\">\n",
       "      <th></th>\n",
       "      <th>CustomerID</th>\n",
       "      <th>Name</th>\n",
       "      <th>Age</th>\n",
       "      <th>Gender</th>\n",
       "      <th>Location</th>\n",
       "      <th>Subscription_Length_Months</th>\n",
       "      <th>Monthly_Bill</th>\n",
       "      <th>Total_Usage_GB</th>\n",
       "      <th>Churn</th>\n",
       "    </tr>\n",
       "  </thead>\n",
       "  <tbody>\n",
       "    <tr>\n",
       "      <th>0</th>\n",
       "      <td>1</td>\n",
       "      <td>Customer_1</td>\n",
       "      <td>63</td>\n",
       "      <td>Male</td>\n",
       "      <td>Los Angeles</td>\n",
       "      <td>17</td>\n",
       "      <td>73.36</td>\n",
       "      <td>236</td>\n",
       "      <td>0</td>\n",
       "    </tr>\n",
       "    <tr>\n",
       "      <th>1</th>\n",
       "      <td>2</td>\n",
       "      <td>Customer_2</td>\n",
       "      <td>62</td>\n",
       "      <td>Female</td>\n",
       "      <td>New York</td>\n",
       "      <td>1</td>\n",
       "      <td>48.76</td>\n",
       "      <td>172</td>\n",
       "      <td>0</td>\n",
       "    </tr>\n",
       "    <tr>\n",
       "      <th>2</th>\n",
       "      <td>3</td>\n",
       "      <td>Customer_3</td>\n",
       "      <td>24</td>\n",
       "      <td>Female</td>\n",
       "      <td>Los Angeles</td>\n",
       "      <td>5</td>\n",
       "      <td>85.47</td>\n",
       "      <td>460</td>\n",
       "      <td>0</td>\n",
       "    </tr>\n",
       "    <tr>\n",
       "      <th>3</th>\n",
       "      <td>4</td>\n",
       "      <td>Customer_4</td>\n",
       "      <td>36</td>\n",
       "      <td>Female</td>\n",
       "      <td>Miami</td>\n",
       "      <td>3</td>\n",
       "      <td>97.94</td>\n",
       "      <td>297</td>\n",
       "      <td>1</td>\n",
       "    </tr>\n",
       "    <tr>\n",
       "      <th>4</th>\n",
       "      <td>5</td>\n",
       "      <td>Customer_5</td>\n",
       "      <td>46</td>\n",
       "      <td>Female</td>\n",
       "      <td>Miami</td>\n",
       "      <td>19</td>\n",
       "      <td>58.14</td>\n",
       "      <td>266</td>\n",
       "      <td>0</td>\n",
       "    </tr>\n",
       "  </tbody>\n",
       "</table>\n",
       "</div>"
      ],
      "text/plain": [
       "   CustomerID        Name  Age  Gender     Location  \\\n",
       "0           1  Customer_1   63    Male  Los Angeles   \n",
       "1           2  Customer_2   62  Female     New York   \n",
       "2           3  Customer_3   24  Female  Los Angeles   \n",
       "3           4  Customer_4   36  Female        Miami   \n",
       "4           5  Customer_5   46  Female        Miami   \n",
       "\n",
       "   Subscription_Length_Months  Monthly_Bill  Total_Usage_GB  Churn  \n",
       "0                          17         73.36             236      0  \n",
       "1                           1         48.76             172      0  \n",
       "2                           5         85.47             460      0  \n",
       "3                           3         97.94             297      1  \n",
       "4                          19         58.14             266      0  "
      ]
     },
     "execution_count": 4,
     "metadata": {},
     "output_type": "execute_result"
    }
   ],
   "source": [
    "df.head()"
   ]
  },
  {
   "cell_type": "markdown",
   "id": "a91bc65e",
   "metadata": {},
   "source": [
    "### Removing unwanted columns"
   ]
  },
  {
   "cell_type": "code",
   "execution_count": 5,
   "id": "8e0942aa",
   "metadata": {},
   "outputs": [],
   "source": [
    "\n",
    "df = df.drop(['CustomerID', 'Name'],axis=1)\n"
   ]
  },
  {
   "cell_type": "code",
   "execution_count": 6,
   "id": "68173bd3",
   "metadata": {},
   "outputs": [
    {
     "data": {
      "text/html": [
       "<div>\n",
       "<style scoped>\n",
       "    .dataframe tbody tr th:only-of-type {\n",
       "        vertical-align: middle;\n",
       "    }\n",
       "\n",
       "    .dataframe tbody tr th {\n",
       "        vertical-align: top;\n",
       "    }\n",
       "\n",
       "    .dataframe thead th {\n",
       "        text-align: right;\n",
       "    }\n",
       "</style>\n",
       "<table border=\"1\" class=\"dataframe\">\n",
       "  <thead>\n",
       "    <tr style=\"text-align: right;\">\n",
       "      <th></th>\n",
       "      <th>Age</th>\n",
       "      <th>Gender</th>\n",
       "      <th>Location</th>\n",
       "      <th>Subscription_Length_Months</th>\n",
       "      <th>Monthly_Bill</th>\n",
       "      <th>Total_Usage_GB</th>\n",
       "      <th>Churn</th>\n",
       "    </tr>\n",
       "  </thead>\n",
       "  <tbody>\n",
       "    <tr>\n",
       "      <th>0</th>\n",
       "      <td>63</td>\n",
       "      <td>Male</td>\n",
       "      <td>Los Angeles</td>\n",
       "      <td>17</td>\n",
       "      <td>73.36</td>\n",
       "      <td>236</td>\n",
       "      <td>0</td>\n",
       "    </tr>\n",
       "    <tr>\n",
       "      <th>1</th>\n",
       "      <td>62</td>\n",
       "      <td>Female</td>\n",
       "      <td>New York</td>\n",
       "      <td>1</td>\n",
       "      <td>48.76</td>\n",
       "      <td>172</td>\n",
       "      <td>0</td>\n",
       "    </tr>\n",
       "    <tr>\n",
       "      <th>2</th>\n",
       "      <td>24</td>\n",
       "      <td>Female</td>\n",
       "      <td>Los Angeles</td>\n",
       "      <td>5</td>\n",
       "      <td>85.47</td>\n",
       "      <td>460</td>\n",
       "      <td>0</td>\n",
       "    </tr>\n",
       "    <tr>\n",
       "      <th>3</th>\n",
       "      <td>36</td>\n",
       "      <td>Female</td>\n",
       "      <td>Miami</td>\n",
       "      <td>3</td>\n",
       "      <td>97.94</td>\n",
       "      <td>297</td>\n",
       "      <td>1</td>\n",
       "    </tr>\n",
       "    <tr>\n",
       "      <th>4</th>\n",
       "      <td>46</td>\n",
       "      <td>Female</td>\n",
       "      <td>Miami</td>\n",
       "      <td>19</td>\n",
       "      <td>58.14</td>\n",
       "      <td>266</td>\n",
       "      <td>0</td>\n",
       "    </tr>\n",
       "  </tbody>\n",
       "</table>\n",
       "</div>"
      ],
      "text/plain": [
       "   Age  Gender     Location  Subscription_Length_Months  Monthly_Bill  \\\n",
       "0   63    Male  Los Angeles                          17         73.36   \n",
       "1   62  Female     New York                           1         48.76   \n",
       "2   24  Female  Los Angeles                           5         85.47   \n",
       "3   36  Female        Miami                           3         97.94   \n",
       "4   46  Female        Miami                          19         58.14   \n",
       "\n",
       "   Total_Usage_GB  Churn  \n",
       "0             236      0  \n",
       "1             172      0  \n",
       "2             460      0  \n",
       "3             297      1  \n",
       "4             266      0  "
      ]
     },
     "execution_count": 6,
     "metadata": {},
     "output_type": "execute_result"
    }
   ],
   "source": [
    "df.head()"
   ]
  },
  {
   "cell_type": "markdown",
   "id": "4d1eb7f5",
   "metadata": {},
   "source": [
    "### checking for missing values"
   ]
  },
  {
   "cell_type": "code",
   "execution_count": 7,
   "id": "6a83c157",
   "metadata": {},
   "outputs": [
    {
     "data": {
      "text/plain": [
       "Age                           0\n",
       "Gender                        0\n",
       "Location                      0\n",
       "Subscription_Length_Months    0\n",
       "Monthly_Bill                  0\n",
       "Total_Usage_GB                0\n",
       "Churn                         0\n",
       "dtype: int64"
      ]
     },
     "execution_count": 7,
     "metadata": {},
     "output_type": "execute_result"
    }
   ],
   "source": [
    "\n",
    "df.isnull().sum()"
   ]
  },
  {
   "cell_type": "markdown",
   "id": "cf4ed898",
   "metadata": {},
   "source": [
    "### Data Exploration"
   ]
  },
  {
   "cell_type": "code",
   "execution_count": 8,
   "id": "6e7de634",
   "metadata": {},
   "outputs": [
    {
     "data": {
      "image/png": "[encoded data removed]",
      "text/plain": [
       "<Figure size 640x480 with 1 Axes>"
      ]
     },
     "metadata": {},
     "output_type": "display_data"
    }
   ],
   "source": [
    "# Visualize outliers using box plots\n",
    "import seaborn as sns\n",
    "import matplotlib.pyplot as plt\n",
    "\n",
    "sns.boxplot(data=df)\n",
    "plt.show()"
   ]
  },
  {
   "cell_type": "code",
   "execution_count": 9,
   "id": "0871e86e",
   "metadata": {},
   "outputs": [
    {
     "data": {
      "text/plain": [
       "Houston        20157\n",
       "Los Angeles    20041\n",
       "Miami          20031\n",
       "Chicago        19958\n",
       "New York       19813\n",
       "Name: Location, dtype: int64"
      ]
     },
     "execution_count": 9,
     "metadata": {},
     "output_type": "execute_result"
    }
   ],
   "source": [
    "# which city's datas are we have?\n",
    "df['Location'].value_counts()"
   ]
  },
  {
   "cell_type": "code",
   "execution_count": 10,
   "id": "cd53f28e",
   "metadata": {},
   "outputs": [
    {
     "data": {
      "text/plain": [
       "20    4303\n",
       "22    4267\n",
       "1     4247\n",
       "16    4229\n",
       "2     4228\n",
       "14    4213\n",
       "7     4211\n",
       "11    4200\n",
       "6     4184\n",
       "5     4171\n",
       "18    4171\n",
       "12    4155\n",
       "21    4154\n",
       "13    4154\n",
       "10    4151\n",
       "3     4136\n",
       "9     4134\n",
       "15    4122\n",
       "24    4113\n",
       "8     4106\n",
       "19    4106\n",
       "4     4098\n",
       "23    4083\n",
       "17    4064\n",
       "Name: Subscription_Length_Months, dtype: int64"
      ]
     },
     "execution_count": 10,
     "metadata": {},
     "output_type": "execute_result"
    }
   ],
   "source": [
    "df['Subscription_Length_Months'].value_counts()"
   ]
  },
  {
   "cell_type": "code",
   "execution_count": 11,
   "id": "f4eb7c0e",
   "metadata": {},
   "outputs": [
    {
     "data": {
      "text/plain": [
       "33    2046\n",
       "50    1996\n",
       "38    1970\n",
       "63    1942\n",
       "57    1942\n",
       "19    1941\n",
       "41    1939\n",
       "42    1930\n",
       "51    1929\n",
       "59    1928\n",
       "27    1924\n",
       "66    1922\n",
       "70    1921\n",
       "44    1916\n",
       "69    1912\n",
       "61    1909\n",
       "60    1904\n",
       "31    1901\n",
       "55    1900\n",
       "21    1897\n",
       "54    1896\n",
       "53    1895\n",
       "48    1895\n",
       "39    1891\n",
       "23    1887\n",
       "20    1886\n",
       "29    1885\n",
       "28    1881\n",
       "24    1876\n",
       "58    1876\n",
       "40    1875\n",
       "30    1875\n",
       "26    1874\n",
       "56    1872\n",
       "25    1871\n",
       "37    1870\n",
       "62    1867\n",
       "46    1865\n",
       "68    1863\n",
       "43    1863\n",
       "36    1859\n",
       "49    1854\n",
       "64    1848\n",
       "47    1847\n",
       "35    1845\n",
       "18    1839\n",
       "65    1833\n",
       "45    1827\n",
       "52    1824\n",
       "32    1810\n",
       "67    1798\n",
       "34    1797\n",
       "22    1787\n",
       "Name: Age, dtype: int64"
      ]
     },
     "execution_count": 11,
     "metadata": {},
     "output_type": "execute_result"
    }
   ],
   "source": [
    "df['Age'].value_counts()"
   ]
  },
  {
   "cell_type": "code",
   "execution_count": 12,
   "id": "9bcd2c24",
   "metadata": {},
   "outputs": [
    {
     "data": {
      "text/html": [
       "<div>\n",
       "<style scoped>\n",
       "    .dataframe tbody tr th:only-of-type {\n",
       "        vertical-align: middle;\n",
       "    }\n",
       "\n",
       "    .dataframe tbody tr th {\n",
       "        vertical-align: top;\n",
       "    }\n",
       "\n",
       "    .dataframe thead th {\n",
       "        text-align: right;\n",
       "    }\n",
       "</style>\n",
       "<table border=\"1\" class=\"dataframe\">\n",
       "  <thead>\n",
       "    <tr style=\"text-align: right;\">\n",
       "      <th></th>\n",
       "      <th>Age</th>\n",
       "      <th>Gender</th>\n",
       "      <th>Location</th>\n",
       "      <th>Subscription_Length_Months</th>\n",
       "      <th>Monthly_Bill</th>\n",
       "      <th>Total_Usage_GB</th>\n",
       "      <th>Churn</th>\n",
       "      <th>30+</th>\n",
       "    </tr>\n",
       "  </thead>\n",
       "  <tbody>\n",
       "    <tr>\n",
       "      <th>0</th>\n",
       "      <td>63</td>\n",
       "      <td>Male</td>\n",
       "      <td>Los Angeles</td>\n",
       "      <td>17</td>\n",
       "      <td>73.36</td>\n",
       "      <td>236</td>\n",
       "      <td>0</td>\n",
       "      <td>1</td>\n",
       "    </tr>\n",
       "    <tr>\n",
       "      <th>1</th>\n",
       "      <td>62</td>\n",
       "      <td>Female</td>\n",
       "      <td>New York</td>\n",
       "      <td>1</td>\n",
       "      <td>48.76</td>\n",
       "      <td>172</td>\n",
       "      <td>0</td>\n",
       "      <td>1</td>\n",
       "    </tr>\n",
       "    <tr>\n",
       "      <th>2</th>\n",
       "      <td>24</td>\n",
       "      <td>Female</td>\n",
       "      <td>Los Angeles</td>\n",
       "      <td>5</td>\n",
       "      <td>85.47</td>\n",
       "      <td>460</td>\n",
       "      <td>0</td>\n",
       "      <td>0</td>\n",
       "    </tr>\n",
       "  </tbody>\n",
       "</table>\n",
       "</div>"
      ],
      "text/plain": [
       "   Age  Gender     Location  Subscription_Length_Months  Monthly_Bill  \\\n",
       "0   63    Male  Los Angeles                          17         73.36   \n",
       "1   62  Female     New York                           1         48.76   \n",
       "2   24  Female  Los Angeles                           5         85.47   \n",
       "\n",
       "   Total_Usage_GB  Churn  30+  \n",
       "0             236      0    1  \n",
       "1             172      0    1  \n",
       "2             460      0    0  "
      ]
     },
     "execution_count": 12,
     "metadata": {},
     "output_type": "execute_result"
    }
   ],
   "source": [
    "df['30+'] = df['Age'].apply(lambda age: 1 if age > 30 else 0)\n",
    "df.head(3)"
   ]
  },
  {
   "cell_type": "code",
   "execution_count": 13,
   "id": "3d47cdfc",
   "metadata": {},
   "outputs": [
    {
     "data": {
      "text/html": [
       "<div>\n",
       "<style scoped>\n",
       "    .dataframe tbody tr th:only-of-type {\n",
       "        vertical-align: middle;\n",
       "    }\n",
       "\n",
       "    .dataframe tbody tr th {\n",
       "        vertical-align: top;\n",
       "    }\n",
       "\n",
       "    .dataframe thead th {\n",
       "        text-align: right;\n",
       "    }\n",
       "</style>\n",
       "<table border=\"1\" class=\"dataframe\">\n",
       "  <thead>\n",
       "    <tr style=\"text-align: right;\">\n",
       "      <th></th>\n",
       "      <th>Age</th>\n",
       "      <th>Gender</th>\n",
       "      <th>Location</th>\n",
       "      <th>Subscription_Length_Months</th>\n",
       "      <th>Monthly_Bill</th>\n",
       "      <th>Total_Usage_GB</th>\n",
       "      <th>Churn</th>\n",
       "      <th>30+</th>\n",
       "      <th>sub15+</th>\n",
       "    </tr>\n",
       "  </thead>\n",
       "  <tbody>\n",
       "    <tr>\n",
       "      <th>0</th>\n",
       "      <td>63</td>\n",
       "      <td>Male</td>\n",
       "      <td>Los Angeles</td>\n",
       "      <td>17</td>\n",
       "      <td>73.36</td>\n",
       "      <td>236</td>\n",
       "      <td>0</td>\n",
       "      <td>1</td>\n",
       "      <td>1</td>\n",
       "    </tr>\n",
       "    <tr>\n",
       "      <th>1</th>\n",
       "      <td>62</td>\n",
       "      <td>Female</td>\n",
       "      <td>New York</td>\n",
       "      <td>1</td>\n",
       "      <td>48.76</td>\n",
       "      <td>172</td>\n",
       "      <td>0</td>\n",
       "      <td>1</td>\n",
       "      <td>0</td>\n",
       "    </tr>\n",
       "    <tr>\n",
       "      <th>2</th>\n",
       "      <td>24</td>\n",
       "      <td>Female</td>\n",
       "      <td>Los Angeles</td>\n",
       "      <td>5</td>\n",
       "      <td>85.47</td>\n",
       "      <td>460</td>\n",
       "      <td>0</td>\n",
       "      <td>0</td>\n",
       "      <td>0</td>\n",
       "    </tr>\n",
       "  </tbody>\n",
       "</table>\n",
       "</div>"
      ],
      "text/plain": [
       "   Age  Gender     Location  Subscription_Length_Months  Monthly_Bill  \\\n",
       "0   63    Male  Los Angeles                          17         73.36   \n",
       "1   62  Female     New York                           1         48.76   \n",
       "2   24  Female  Los Angeles                           5         85.47   \n",
       "\n",
       "   Total_Usage_GB  Churn  30+  sub15+  \n",
       "0             236      0    1       1  \n",
       "1             172      0    1       0  \n",
       "2             460      0    0       0  "
      ]
     },
     "execution_count": 13,
     "metadata": {},
     "output_type": "execute_result"
    }
   ],
   "source": [
    "# Assuming df is your DataFrame\n",
    "df['sub15+'] = df['Subscription_Length_Months'].apply(lambda length: 1 if length > 15 else 0)\n",
    "\n",
    "# Display the updated DataFrame\n",
    "df.head(3)"
   ]
  },
  {
   "cell_type": "code",
   "execution_count": 14,
   "id": "af83f7dd",
   "metadata": {},
   "outputs": [
    {
     "data": {
      "image/png": "[encoded data removed]",
      "text/plain": [
       "<Figure size 1200x300 with 1 Axes>"
      ]
     },
     "metadata": {},
     "output_type": "display_data"
    }
   ],
   "source": [
    "plt.figure(figsize=(12, 3))\n",
    "sns.countplot(data=df, x='Age', hue='sub15+',palette='viridis')\n",
    "plt.title('Count Plot of Age')\n",
    "plt.xlabel('Age')\n",
    "plt.ylabel('Count')\n",
    "plt.legend(title='Subscription for 15+ months', bbox_to_anchor=(1, 1), loc='upper left', fontsize='small')\n",
    "plt.xticks(rotation=90)  # Rotate x-axis labels for better readability\n",
    "plt.tight_layout()  # Adjust layout for better spacing\n",
    "plt.show()\n"
   ]
  },
  {
   "cell_type": "markdown",
   "id": "c430c972",
   "metadata": {},
   "source": [
    "#### Conclusion : All the age categories are in equal amounts and averagely in all the age goups 50% of the members are having more than 15+ months of subcription "
   ]
  },
  {
   "cell_type": "code",
   "execution_count": 15,
   "id": "6f0d54be",
   "metadata": {},
   "outputs": [
    {
     "data": {
      "image/png": "[encoded data removed]",
      "text/plain": [
       "<Figure size 1200x300 with 1 Axes>"
      ]
     },
     "metadata": {},
     "output_type": "display_data"
    }
   ],
   "source": [
    "import seaborn as sns\n",
    "import matplotlib.pyplot as plt\n",
    "\n",
    "# Assuming df is your DataFrame\n",
    "plt.figure(figsize=(12, 3))\n",
    "sns.countplot(data=df, x='Subscription_Length_Months', hue='Churn', palette='Set1')\n",
    "plt.title('Counts of Churn by Subscription Length')\n",
    "plt.xlabel('Subscription Length (Months)')\n",
    "plt.ylabel('Count')\n",
    "plt.legend(title='Churn')\n",
    "plt.xticks(rotation=45)  # Rotate x-axis labels for better readability\n",
    "plt.tight_layout()  # Adjust layout for better spacing\n",
    "plt.show()\n"
   ]
  },
  {
   "cell_type": "markdown",
   "id": "4362595c",
   "metadata": {},
   "source": [
    "#### The above graph is a plot btw no.of.subcription months remaining and no.of.members are churn and not churn\n",
    "#### Conclusion: In every month category equal no.of chrun and not churn are there"
   ]
  },
  {
   "cell_type": "code",
   "execution_count": 16,
   "id": "9a740a77",
   "metadata": {},
   "outputs": [
    {
     "data": {
      "text/plain": [
       "500"
      ]
     },
     "execution_count": 16,
     "metadata": {},
     "output_type": "execute_result"
    }
   ],
   "source": [
    "df[\"Total_Usage_GB\"].max()"
   ]
  },
  {
   "cell_type": "code",
   "execution_count": 17,
   "id": "c895a264",
   "metadata": {},
   "outputs": [],
   "source": [
    "# Assuming df is your DataFrame\n",
    "df['250+gb'] = df[\"Total_Usage_GB\"].apply(lambda length: 1 if length > 250 else 0)\n"
   ]
  },
  {
   "cell_type": "code",
   "execution_count": 18,
   "id": "29f2e9ef",
   "metadata": {},
   "outputs": [
    {
     "data": {
      "image/png": "[encoded data removed]",
      "text/plain": [
       "<Figure size 1200x300 with 1 Axes>"
      ]
     },
     "metadata": {},
     "output_type": "display_data"
    }
   ],
   "source": [
    "import seaborn as sns\n",
    "import matplotlib.pyplot as plt\n",
    "\n",
    "# Assuming df is your DataFrame\n",
    "plt.figure(figsize=(12, 3))\n",
    "sns.countplot(data=df, x='250+gb', hue='Churn', palette='Set1')\n",
    "plt.title('Counts of Churn by data usage')\n",
    "plt.xlabel('Data usage')\n",
    "plt.ylabel('Count')\n",
    "plt.legend(title='Churn')\n",
    "plt.xticks(rotation=45)  # Rotate x-axis labels for better readability\n",
    "plt.tight_layout()  # Adjust layout for better spacing\n",
    "plt.show()\n"
   ]
  },
  {
   "cell_type": "code",
   "execution_count": 19,
   "id": "6a5673a4",
   "metadata": {},
   "outputs": [
    {
     "data": {
      "text/plain": [
       "27485"
      ]
     },
     "execution_count": 19,
     "metadata": {},
     "output_type": "execute_result"
    }
   ],
   "source": [
    "#people who are using more than 250+ gb and churn\n",
    "df[(df['250+gb'] == 1) & (df['Churn'] == 1)].shape[0]"
   ]
  },
  {
   "cell_type": "code",
   "execution_count": 20,
   "id": "94d63d7c",
   "metadata": {},
   "outputs": [
    {
     "data": {
      "text/plain": [
       "27712"
      ]
     },
     "execution_count": 20,
     "metadata": {},
     "output_type": "execute_result"
    }
   ],
   "source": [
    "#people who are using more than 250+ gb and not churn\n",
    "df[(df['250+gb'] == 1) & (df['Churn'] == 0)].shape[0]"
   ]
  },
  {
   "cell_type": "code",
   "execution_count": 21,
   "id": "602d6f70",
   "metadata": {},
   "outputs": [
    {
     "data": {
      "text/plain": [
       "22294"
      ]
     },
     "execution_count": 21,
     "metadata": {},
     "output_type": "execute_result"
    }
   ],
   "source": [
    "#people who are not using more than 250+ gb and churn\n",
    "df[(df['250+gb'] == 0) & (df['Churn'] == 1)].shape[0]"
   ]
  },
  {
   "cell_type": "code",
   "execution_count": 22,
   "id": "afbf66ab",
   "metadata": {},
   "outputs": [
    {
     "data": {
      "text/plain": [
       "22509"
      ]
     },
     "execution_count": 22,
     "metadata": {},
     "output_type": "execute_result"
    }
   ],
   "source": [
    "#people who are not using more than 250+ gb and not churn\n",
    "df[(df['250+gb'] == 0) & (df['Churn'] == 0)].shape[0]"
   ]
  },
  {
   "cell_type": "markdown",
   "id": "c354b4cc",
   "metadata": {},
   "source": [
    "### There is no info gain by data usage and churn"
   ]
  },
  {
   "cell_type": "code",
   "execution_count": 23,
   "id": "cf9e579c",
   "metadata": {},
   "outputs": [
    {
     "data": {
      "image/png": "[encoded data removed]",
      "text/plain": [
       "<Figure size 500x100 with 1 Axes>"
      ]
     },
     "metadata": {},
     "output_type": "display_data"
    }
   ],
   "source": [
    "# Assuming df is your DataFrame\n",
    "plt.figure(figsize=(5, 1))\n",
    "sns.countplot(data=df, x='Gender', palette='Set1')\n",
    "plt.title('Count Plot of Gender')\n",
    "plt.xlabel('Gender')\n",
    "plt.ylabel('Count')\n",
    "plt.show()"
   ]
  },
  {
   "cell_type": "markdown",
   "id": "79fc9cf9",
   "metadata": {},
   "source": [
    "##### This data set has equal amount of data in every case"
   ]
  },
  {
   "cell_type": "markdown",
   "id": "5569f40d",
   "metadata": {},
   "source": [
    "### categorical values to numerical"
   ]
  },
  {
   "cell_type": "code",
   "execution_count": 24,
   "id": "78473881",
   "metadata": {},
   "outputs": [
    {
     "data": {
      "text/html": [
       "<div>\n",
       "<style scoped>\n",
       "    .dataframe tbody tr th:only-of-type {\n",
       "        vertical-align: middle;\n",
       "    }\n",
       "\n",
       "    .dataframe tbody tr th {\n",
       "        vertical-align: top;\n",
       "    }\n",
       "\n",
       "    .dataframe thead th {\n",
       "        text-align: right;\n",
       "    }\n",
       "</style>\n",
       "<table border=\"1\" class=\"dataframe\">\n",
       "  <thead>\n",
       "    <tr style=\"text-align: right;\">\n",
       "      <th></th>\n",
       "      <th>Age</th>\n",
       "      <th>Gender</th>\n",
       "      <th>Location</th>\n",
       "      <th>Subscription_Length_Months</th>\n",
       "      <th>Monthly_Bill</th>\n",
       "      <th>Total_Usage_GB</th>\n",
       "      <th>Churn</th>\n",
       "      <th>30+</th>\n",
       "      <th>sub15+</th>\n",
       "      <th>250+gb</th>\n",
       "    </tr>\n",
       "  </thead>\n",
       "  <tbody>\n",
       "    <tr>\n",
       "      <th>0</th>\n",
       "      <td>63</td>\n",
       "      <td>Male</td>\n",
       "      <td>Los Angeles</td>\n",
       "      <td>17</td>\n",
       "      <td>73.36</td>\n",
       "      <td>236</td>\n",
       "      <td>0</td>\n",
       "      <td>1</td>\n",
       "      <td>1</td>\n",
       "      <td>0</td>\n",
       "    </tr>\n",
       "    <tr>\n",
       "      <th>1</th>\n",
       "      <td>62</td>\n",
       "      <td>Female</td>\n",
       "      <td>New York</td>\n",
       "      <td>1</td>\n",
       "      <td>48.76</td>\n",
       "      <td>172</td>\n",
       "      <td>0</td>\n",
       "      <td>1</td>\n",
       "      <td>0</td>\n",
       "      <td>0</td>\n",
       "    </tr>\n",
       "    <tr>\n",
       "      <th>2</th>\n",
       "      <td>24</td>\n",
       "      <td>Female</td>\n",
       "      <td>Los Angeles</td>\n",
       "      <td>5</td>\n",
       "      <td>85.47</td>\n",
       "      <td>460</td>\n",
       "      <td>0</td>\n",
       "      <td>0</td>\n",
       "      <td>0</td>\n",
       "      <td>1</td>\n",
       "    </tr>\n",
       "    <tr>\n",
       "      <th>3</th>\n",
       "      <td>36</td>\n",
       "      <td>Female</td>\n",
       "      <td>Miami</td>\n",
       "      <td>3</td>\n",
       "      <td>97.94</td>\n",
       "      <td>297</td>\n",
       "      <td>1</td>\n",
       "      <td>1</td>\n",
       "      <td>0</td>\n",
       "      <td>1</td>\n",
       "    </tr>\n",
       "    <tr>\n",
       "      <th>4</th>\n",
       "      <td>46</td>\n",
       "      <td>Female</td>\n",
       "      <td>Miami</td>\n",
       "      <td>19</td>\n",
       "      <td>58.14</td>\n",
       "      <td>266</td>\n",
       "      <td>0</td>\n",
       "      <td>1</td>\n",
       "      <td>1</td>\n",
       "      <td>1</td>\n",
       "    </tr>\n",
       "  </tbody>\n",
       "</table>\n",
       "</div>"
      ],
      "text/plain": [
       "   Age  Gender     Location  Subscription_Length_Months  Monthly_Bill  \\\n",
       "0   63    Male  Los Angeles                          17         73.36   \n",
       "1   62  Female     New York                           1         48.76   \n",
       "2   24  Female  Los Angeles                           5         85.47   \n",
       "3   36  Female        Miami                           3         97.94   \n",
       "4   46  Female        Miami                          19         58.14   \n",
       "\n",
       "   Total_Usage_GB  Churn  30+  sub15+  250+gb  \n",
       "0             236      0    1       1       0  \n",
       "1             172      0    1       0       0  \n",
       "2             460      0    0       0       1  \n",
       "3             297      1    1       0       1  \n",
       "4             266      0    1       1       1  "
      ]
     },
     "execution_count": 24,
     "metadata": {},
     "output_type": "execute_result"
    }
   ],
   "source": [
    "df.head()"
   ]
  },
  {
   "cell_type": "code",
   "execution_count": 25,
   "id": "51a10f8d",
   "metadata": {},
   "outputs": [],
   "source": [
    "from sklearn.preprocessing import LabelEncoder\n",
    "\n",
    "label_encoder = LabelEncoder()\n",
    "\n",
    "df['Gender'] = label_encoder.fit_transform(df['Gender'])\n",
    "df['Location'] = label_encoder.fit_transform(df['Location'])\n"
   ]
  },
  {
   "cell_type": "code",
   "execution_count": 26,
   "id": "3d2880cb",
   "metadata": {},
   "outputs": [
    {
     "data": {
      "text/html": [
       "<div>\n",
       "<style scoped>\n",
       "    .dataframe tbody tr th:only-of-type {\n",
       "        vertical-align: middle;\n",
       "    }\n",
       "\n",
       "    .dataframe tbody tr th {\n",
       "        vertical-align: top;\n",
       "    }\n",
       "\n",
       "    .dataframe thead th {\n",
       "        text-align: right;\n",
       "    }\n",
       "</style>\n",
       "<table border=\"1\" class=\"dataframe\">\n",
       "  <thead>\n",
       "    <tr style=\"text-align: right;\">\n",
       "      <th></th>\n",
       "      <th>Age</th>\n",
       "      <th>Gender</th>\n",
       "      <th>Location</th>\n",
       "      <th>Subscription_Length_Months</th>\n",
       "      <th>Monthly_Bill</th>\n",
       "      <th>Total_Usage_GB</th>\n",
       "      <th>Churn</th>\n",
       "      <th>30+</th>\n",
       "      <th>sub15+</th>\n",
       "      <th>250+gb</th>\n",
       "    </tr>\n",
       "  </thead>\n",
       "  <tbody>\n",
       "    <tr>\n",
       "      <th>0</th>\n",
       "      <td>63</td>\n",
       "      <td>1</td>\n",
       "      <td>2</td>\n",
       "      <td>17</td>\n",
       "      <td>73.36</td>\n",
       "      <td>236</td>\n",
       "      <td>0</td>\n",
       "      <td>1</td>\n",
       "      <td>1</td>\n",
       "      <td>0</td>\n",
       "    </tr>\n",
       "    <tr>\n",
       "      <th>1</th>\n",
       "      <td>62</td>\n",
       "      <td>0</td>\n",
       "      <td>4</td>\n",
       "      <td>1</td>\n",
       "      <td>48.76</td>\n",
       "      <td>172</td>\n",
       "      <td>0</td>\n",
       "      <td>1</td>\n",
       "      <td>0</td>\n",
       "      <td>0</td>\n",
       "    </tr>\n",
       "    <tr>\n",
       "      <th>2</th>\n",
       "      <td>24</td>\n",
       "      <td>0</td>\n",
       "      <td>2</td>\n",
       "      <td>5</td>\n",
       "      <td>85.47</td>\n",
       "      <td>460</td>\n",
       "      <td>0</td>\n",
       "      <td>0</td>\n",
       "      <td>0</td>\n",
       "      <td>1</td>\n",
       "    </tr>\n",
       "    <tr>\n",
       "      <th>3</th>\n",
       "      <td>36</td>\n",
       "      <td>0</td>\n",
       "      <td>3</td>\n",
       "      <td>3</td>\n",
       "      <td>97.94</td>\n",
       "      <td>297</td>\n",
       "      <td>1</td>\n",
       "      <td>1</td>\n",
       "      <td>0</td>\n",
       "      <td>1</td>\n",
       "    </tr>\n",
       "    <tr>\n",
       "      <th>4</th>\n",
       "      <td>46</td>\n",
       "      <td>0</td>\n",
       "      <td>3</td>\n",
       "      <td>19</td>\n",
       "      <td>58.14</td>\n",
       "      <td>266</td>\n",
       "      <td>0</td>\n",
       "      <td>1</td>\n",
       "      <td>1</td>\n",
       "      <td>1</td>\n",
       "    </tr>\n",
       "  </tbody>\n",
       "</table>\n",
       "</div>"
      ],
      "text/plain": [
       "   Age  Gender  Location  Subscription_Length_Months  Monthly_Bill  \\\n",
       "0   63       1         2                          17         73.36   \n",
       "1   62       0         4                           1         48.76   \n",
       "2   24       0         2                           5         85.47   \n",
       "3   36       0         3                           3         97.94   \n",
       "4   46       0         3                          19         58.14   \n",
       "\n",
       "   Total_Usage_GB  Churn  30+  sub15+  250+gb  \n",
       "0             236      0    1       1       0  \n",
       "1             172      0    1       0       0  \n",
       "2             460      0    0       0       1  \n",
       "3             297      1    1       0       1  \n",
       "4             266      0    1       1       1  "
      ]
     },
     "execution_count": 26,
     "metadata": {},
     "output_type": "execute_result"
    }
   ],
   "source": [
    "df.head()"
   ]
  },
  {
   "cell_type": "code",
   "execution_count": 27,
   "id": "cd445ad4",
   "metadata": {},
   "outputs": [
    {
     "data": {
      "text/plain": [
       "1    20157\n",
       "2    20041\n",
       "3    20031\n",
       "0    19958\n",
       "4    19813\n",
       "Name: Location, dtype: int64"
      ]
     },
     "execution_count": 27,
     "metadata": {},
     "output_type": "execute_result"
    }
   ],
   "source": [
    "df[\"Location\"].value_counts()"
   ]
  },
  {
   "cell_type": "code",
   "execution_count": 28,
   "id": "d2132f4f",
   "metadata": {},
   "outputs": [
    {
     "data": {
      "text/plain": [
       "0    50216\n",
       "1    49784\n",
       "Name: Gender, dtype: int64"
      ]
     },
     "execution_count": 28,
     "metadata": {},
     "output_type": "execute_result"
    }
   ],
   "source": [
    "df[\"Gender\"].value_counts()"
   ]
  },
  {
   "cell_type": "code",
   "execution_count": 29,
   "id": "d7e483dc",
   "metadata": {},
   "outputs": [],
   "source": [
    "df_1=df.drop(['30+','sub15+','250+gb'],axis=1)"
   ]
  },
  {
   "cell_type": "code",
   "execution_count": 30,
   "id": "ae9c3871",
   "metadata": {},
   "outputs": [
    {
     "data": {
      "text/html": [
       "<div>\n",
       "<style scoped>\n",
       "    .dataframe tbody tr th:only-of-type {\n",
       "        vertical-align: middle;\n",
       "    }\n",
       "\n",
       "    .dataframe tbody tr th {\n",
       "        vertical-align: top;\n",
       "    }\n",
       "\n",
       "    .dataframe thead th {\n",
       "        text-align: right;\n",
       "    }\n",
       "</style>\n",
       "<table border=\"1\" class=\"dataframe\">\n",
       "  <thead>\n",
       "    <tr style=\"text-align: right;\">\n",
       "      <th></th>\n",
       "      <th>Age</th>\n",
       "      <th>Gender</th>\n",
       "      <th>Location</th>\n",
       "      <th>Subscription_Length_Months</th>\n",
       "      <th>Monthly_Bill</th>\n",
       "      <th>Total_Usage_GB</th>\n",
       "      <th>Churn</th>\n",
       "    </tr>\n",
       "  </thead>\n",
       "  <tbody>\n",
       "    <tr>\n",
       "      <th>0</th>\n",
       "      <td>63</td>\n",
       "      <td>1</td>\n",
       "      <td>2</td>\n",
       "      <td>17</td>\n",
       "      <td>73.36</td>\n",
       "      <td>236</td>\n",
       "      <td>0</td>\n",
       "    </tr>\n",
       "    <tr>\n",
       "      <th>1</th>\n",
       "      <td>62</td>\n",
       "      <td>0</td>\n",
       "      <td>4</td>\n",
       "      <td>1</td>\n",
       "      <td>48.76</td>\n",
       "      <td>172</td>\n",
       "      <td>0</td>\n",
       "    </tr>\n",
       "    <tr>\n",
       "      <th>2</th>\n",
       "      <td>24</td>\n",
       "      <td>0</td>\n",
       "      <td>2</td>\n",
       "      <td>5</td>\n",
       "      <td>85.47</td>\n",
       "      <td>460</td>\n",
       "      <td>0</td>\n",
       "    </tr>\n",
       "    <tr>\n",
       "      <th>3</th>\n",
       "      <td>36</td>\n",
       "      <td>0</td>\n",
       "      <td>3</td>\n",
       "      <td>3</td>\n",
       "      <td>97.94</td>\n",
       "      <td>297</td>\n",
       "      <td>1</td>\n",
       "    </tr>\n",
       "    <tr>\n",
       "      <th>4</th>\n",
       "      <td>46</td>\n",
       "      <td>0</td>\n",
       "      <td>3</td>\n",
       "      <td>19</td>\n",
       "      <td>58.14</td>\n",
       "      <td>266</td>\n",
       "      <td>0</td>\n",
       "    </tr>\n",
       "  </tbody>\n",
       "</table>\n",
       "</div>"
      ],
      "text/plain": [
       "   Age  Gender  Location  Subscription_Length_Months  Monthly_Bill  \\\n",
       "0   63       1         2                          17         73.36   \n",
       "1   62       0         4                           1         48.76   \n",
       "2   24       0         2                           5         85.47   \n",
       "3   36       0         3                           3         97.94   \n",
       "4   46       0         3                          19         58.14   \n",
       "\n",
       "   Total_Usage_GB  Churn  \n",
       "0             236      0  \n",
       "1             172      0  \n",
       "2             460      0  \n",
       "3             297      1  \n",
       "4             266      0  "
      ]
     },
     "execution_count": 30,
     "metadata": {},
     "output_type": "execute_result"
    }
   ],
   "source": [
    "df_1.head()"
   ]
  },
  {
   "cell_type": "markdown",
   "id": "3414965b",
   "metadata": {},
   "source": [
    "### splitting for Training and testing"
   ]
  },
  {
   "cell_type": "code",
   "execution_count": 85,
   "id": "21d70c56",
   "metadata": {},
   "outputs": [],
   "source": [
    "from sklearn.model_selection import train_test_split\n",
    "\n",
    "# Assuming df is your DataFrame\n",
    "X = df_1.drop('Churn', axis=1)  # Features (excluding the target column 'Churn')\n",
    "y = df_1['Churn']  # Target column\n",
    "\n",
    "# Split into training and test sets\n",
    "X_train, X_test, y_train, y_test = train_test_split(X, y, test_size=0.2, random_state=42)\n"
   ]
  },
  {
   "cell_type": "code",
   "execution_count": 86,
   "id": "69080364",
   "metadata": {},
   "outputs": [
    {
     "name": "stdout",
     "output_type": "stream",
     "text": [
      "X_train shape: (80000, 6)\n",
      "X_test shape: (20000, 6)\n",
      "y_train shape: (80000,)\n",
      "y_test shape: (20000,)\n"
     ]
    }
   ],
   "source": [
    "\n",
    "print(\"X_train shape:\", X_train.shape)\n",
    "print(\"X_test shape:\", X_test.shape)\n",
    "print(\"y_train shape:\", y_train.shape)\n",
    "print(\"y_test shape:\", y_test.shape)"
   ]
  },
  {
   "cell_type": "markdown",
   "id": "2b947bc7",
   "metadata": {},
   "source": [
    "### Random Forest with out scaling"
   ]
  },
  {
   "cell_type": "code",
   "execution_count": 87,
   "id": "fdcc2cd1",
   "metadata": {},
   "outputs": [
    {
     "data": {
      "text/html": [
       "<style>#sk-container-id-1 {color: black;}#sk-container-id-1 pre{padding: 0;}#sk-container-id-1 div.sk-toggleable {background-color: white;}#sk-container-id-1 label.sk-toggleable__label {cursor: pointer;display: block;width: 100%;margin-bottom: 0;padding: 0.3em;box-sizing: border-box;text-align: center;}#sk-container-id-1 label.sk-toggleable__label-arrow:before {content: \"▸\";float: left;margin-right: 0.25em;color: #696969;}#sk-container-id-1 label.sk-toggleable__label-arrow:hover:before {color: black;}#sk-container-id-1 div.sk-estimator:hover label.sk-toggleable__label-arrow:before {color: black;}#sk-container-id-1 div.sk-toggleable__content {max-height: 0;max-width: 0;overflow: hidden;text-align: left;background-color: #f0f8ff;}#sk-container-id-1 div.sk-toggleable__content pre {margin: 0.2em;color: black;border-radius: 0.25em;background-color: #f0f8ff;}#sk-container-id-1 input.sk-toggleable__control:checked~div.sk-toggleable__content {max-height: 200px;max-width: 100%;overflow: auto;}#sk-container-id-1 input.sk-toggleable__control:checked~label.sk-toggleable__label-arrow:before {content: \"▾\";}#sk-container-id-1 div.sk-estimator input.sk-toggleable__control:checked~label.sk-toggleable__label {background-color: #d4ebff;}#sk-container-id-1 div.sk-label input.sk-toggleable__control:checked~label.sk-toggleable__label {background-color: #d4ebff;}#sk-container-id-1 input.sk-hidden--visually {border: 0;clip: rect(1px 1px 1px 1px);clip: rect(1px, 1px, 1px, 1px);height: 1px;margin: -1px;overflow: hidden;padding: 0;position: absolute;width: 1px;}#sk-container-id-1 div.sk-estimator {font-family: monospace;background-color: #f0f8ff;border: 1px dotted black;border-radius: 0.25em;box-sizing: border-box;margin-bottom: 0.5em;}#sk-container-id-1 div.sk-estimator:hover {background-color: #d4ebff;}#sk-container-id-1 div.sk-parallel-item::after {content: \"\";width: 100%;border-bottom: 1px solid gray;flex-grow: 1;}#sk-container-id-1 div.sk-label:hover label.sk-toggleable__label {background-color: #d4ebff;}#sk-container-id-1 div.sk-serial::before {content: \"\";position: absolute;border-left: 1px solid gray;box-sizing: border-box;top: 0;bottom: 0;left: 50%;z-index: 0;}#sk-container-id-1 div.sk-serial {display: flex;flex-direction: column;align-items: center;background-color: white;padding-right: 0.2em;padding-left: 0.2em;position: relative;}#sk-container-id-1 div.sk-item {position: relative;z-index: 1;}#sk-container-id-1 div.sk-parallel {display: flex;align-items: stretch;justify-content: center;background-color: white;position: relative;}#sk-container-id-1 div.sk-item::before, #sk-container-id-1 div.sk-parallel-item::before {content: \"\";position: absolute;border-left: 1px solid gray;box-sizing: border-box;top: 0;bottom: 0;left: 50%;z-index: -1;}#sk-container-id-1 div.sk-parallel-item {display: flex;flex-direction: column;z-index: 1;position: relative;background-color: white;}#sk-container-id-1 div.sk-parallel-item:first-child::after {align-self: flex-end;width: 50%;}#sk-container-id-1 div.sk-parallel-item:last-child::after {align-self: flex-start;width: 50%;}#sk-container-id-1 div.sk-parallel-item:only-child::after {width: 0;}#sk-container-id-1 div.sk-dashed-wrapped {border: 1px dashed gray;margin: 0 0.4em 0.5em 0.4em;box-sizing: border-box;padding-bottom: 0.4em;background-color: white;}#sk-container-id-1 div.sk-label label {font-family: monospace;font-weight: bold;display: inline-block;line-height: 1.2em;}#sk-container-id-1 div.sk-label-container {text-align: center;}#sk-container-id-1 div.sk-container {/* jupyter's `normalize.less` sets `[hidden] { display: none; }` but bootstrap.min.css set `[hidden] { display: none !important; }` so we also need the `!important` here to be able to override the default hidden behavior on the sphinx rendered scikit-learn.org. See: https://github.com/scikit-learn/scikit-learn/issues/21755 */display: inline-block !important;position: relative;}#sk-container-id-1 div.sk-text-repr-fallback {display: none;}</style><div id=\"sk-container-id-1\" class=\"sk-top-container\"><div class=\"sk-text-repr-fallback\"><pre>RandomForestClassifier(random_state=42)</pre><b>In a Jupyter environment, please rerun this cell to show the HTML representation or trust the notebook. <br />On GitHub, the HTML representation is unable to render, please try loading this page with nbviewer.org.</b></div><div class=\"sk-container\" hidden><div class=\"sk-item\"><div class=\"sk-estimator sk-toggleable\"><input class=\"sk-toggleable__control sk-hidden--visually\" id=\"sk-estimator-id-1\" type=\"checkbox\" checked><label for=\"sk-estimator-id-1\" class=\"sk-toggleable__label sk-toggleable__label-arrow\">RandomForestClassifier</label><div class=\"sk-toggleable__content\"><pre>RandomForestClassifier(random_state=42)</pre></div></div></div></div></div>"
      ],
      "text/plain": [
       "RandomForestClassifier(random_state=42)"
      ]
     },
     "execution_count": 87,
     "metadata": {},
     "output_type": "execute_result"
    }
   ],
   "source": [
    "\n",
    "from sklearn.ensemble import RandomForestClassifier\n",
    "from sklearn.metrics import confusion_matrix, classification_report\n",
    "\n",
    "rf_model = RandomForestClassifier(random_state=42)\n",
    "\n",
    "rf_model.fit(X_train, y_train)\n"
   ]
  },
  {
   "cell_type": "code",
   "execution_count": 88,
   "id": "290d5224",
   "metadata": {},
   "outputs": [],
   "source": [
    "y_pred = rf_model.predict(X_test)"
   ]
  },
  {
   "cell_type": "code",
   "execution_count": 89,
   "id": "26b1bbfc",
   "metadata": {},
   "outputs": [
    {
     "name": "stdout",
     "output_type": "stream",
     "text": [
      "Confusion Matrix:\n",
      " [[5319 4760]\n",
      " [5236 4685]]\n",
      "\n",
      "Classification Report:\n",
      "               precision    recall  f1-score   support\n",
      "\n",
      "           0       0.50      0.53      0.52     10079\n",
      "           1       0.50      0.47      0.48      9921\n",
      "\n",
      "    accuracy                           0.50     20000\n",
      "   macro avg       0.50      0.50      0.50     20000\n",
      "weighted avg       0.50      0.50      0.50     20000\n",
      "\n"
     ]
    }
   ],
   "source": [
    "# Generate a confusion matrix\n",
    "conf_matrix = confusion_matrix(y_test, y_pred)\n",
    "\n",
    "# Display the confusion matrix\n",
    "print(\"Confusion Matrix:\\n\", conf_matrix)\n",
    "\n",
    "# Generate a classification report\n",
    "class_report = classification_report(y_test, y_pred)\n",
    "\n",
    "# Display the classification report\n",
    "print(\"\\nClassification Report:\\n\", class_report)"
   ]
  },
  {
   "cell_type": "code",
   "execution_count": 90,
   "id": "3c3f8e5f",
   "metadata": {},
   "outputs": [
    {
     "name": "stdout",
     "output_type": "stream",
     "text": [
      "Number of Estimators: 50\n",
      "Confusion Matrix:\n",
      " [[5422 4657]\n",
      " [5393 4528]]\n",
      "\n",
      "Classification Report:\n",
      "               precision    recall  f1-score   support\n",
      "\n",
      "           0       0.50      0.54      0.52     10079\n",
      "           1       0.49      0.46      0.47      9921\n",
      "\n",
      "    accuracy                           0.50     20000\n",
      "   macro avg       0.50      0.50      0.50     20000\n",
      "weighted avg       0.50      0.50      0.50     20000\n",
      "\n",
      "---------------------------\n",
      "Number of Estimators: 100\n",
      "Confusion Matrix:\n",
      " [[5319 4760]\n",
      " [5236 4685]]\n",
      "\n",
      "Classification Report:\n",
      "               precision    recall  f1-score   support\n",
      "\n",
      "           0       0.50      0.53      0.52     10079\n",
      "           1       0.50      0.47      0.48      9921\n",
      "\n",
      "    accuracy                           0.50     20000\n",
      "   macro avg       0.50      0.50      0.50     20000\n",
      "weighted avg       0.50      0.50      0.50     20000\n",
      "\n",
      "---------------------------\n",
      "Number of Estimators: 150\n",
      "Confusion Matrix:\n",
      " [[5223 4856]\n",
      " [5240 4681]]\n",
      "\n",
      "Classification Report:\n",
      "               precision    recall  f1-score   support\n",
      "\n",
      "           0       0.50      0.52      0.51     10079\n",
      "           1       0.49      0.47      0.48      9921\n",
      "\n",
      "    accuracy                           0.50     20000\n",
      "   macro avg       0.50      0.50      0.49     20000\n",
      "weighted avg       0.50      0.50      0.49     20000\n",
      "\n",
      "---------------------------\n",
      "Number of Estimators: 200\n",
      "Confusion Matrix:\n",
      " [[5201 4878]\n",
      " [5200 4721]]\n",
      "\n",
      "Classification Report:\n",
      "               precision    recall  f1-score   support\n",
      "\n",
      "           0       0.50      0.52      0.51     10079\n",
      "           1       0.49      0.48      0.48      9921\n",
      "\n",
      "    accuracy                           0.50     20000\n",
      "   macro avg       0.50      0.50      0.50     20000\n",
      "weighted avg       0.50      0.50      0.50     20000\n",
      "\n",
      "---------------------------\n"
     ]
    }
   ],
   "source": [
    "\n",
    "# Different values of n_estimators to try\n",
    "n_estimators_values = [50, 100, 150, 200]\n",
    "\n",
    "# Iterate over different n_estimators\n",
    "for n_estimators in n_estimators_values:\n",
    "    print(f\"Number of Estimators: {n_estimators}\")\n",
    "    \n",
    "    # Create a Random Forest Classifier with current n_estimators\n",
    "    rf_model = RandomForestClassifier(n_estimators=n_estimators, random_state=42)\n",
    "\n",
    "    # Fit the model on the training data\n",
    "    rf_model.fit(X_train, y_train)\n",
    "\n",
    "    # Predict on the test data\n",
    "    y_pred = rf_model.predict(X_test)\n",
    "\n",
    "    # Generate a confusion matrix\n",
    "    conf_matrix = confusion_matrix(y_test, y_pred)\n",
    "    print(\"Confusion Matrix:\\n\", conf_matrix)\n",
    "\n",
    "    # Generate a classification report\n",
    "    class_report = classification_report(y_test, y_pred)\n",
    "    print(\"\\nClassification Report:\\n\", class_report)\n",
    "    print(\"---------------------------\")\n",
    "\n",
    "\n",
    "\n"
   ]
  },
  {
   "cell_type": "code",
   "execution_count": 91,
   "id": "aba0f431",
   "metadata": {},
   "outputs": [
    {
     "name": "stdout",
     "output_type": "stream",
     "text": [
      "Scaled X_train:\n"
     ]
    },
    {
     "data": {
      "text/plain": [
       "array([[0.69230769, 0.        , 1.        , 0.17391304, 0.77857143,\n",
       "        0.34444444],\n",
       "       [0.19230769, 1.        , 1.        , 1.        , 0.74371429,\n",
       "        0.42      ],\n",
       "       [0.75      , 1.        , 0.        , 0.47826087, 0.31842857,\n",
       "        0.02666667],\n",
       "       [0.01923077, 1.        , 0.25      , 0.7826087 , 0.03671429,\n",
       "        0.27333333],\n",
       "       [0.73076923, 0.        , 0.75      , 0.30434783, 0.05028571,\n",
       "        0.58666667]])"
      ]
     },
     "execution_count": 91,
     "metadata": {},
     "output_type": "execute_result"
    }
   ],
   "source": [
    "from sklearn.preprocessing import MinMaxScaler\n",
    "\n",
    "scaler = MinMaxScaler()\n",
    "\n",
    "# Fit the scaler on the training data and transform both training and test data\n",
    "X_train_scaled = scaler.fit_transform(X_train)\n",
    "X_test_scaled = scaler.transform(X_test)\n",
    "\n",
    "# Display the first few rows of scaled data\n",
    "print(\"Scaled X_train:\")\n",
    "X_train_scaled[:5, :]\n"
   ]
  },
  {
   "cell_type": "markdown",
   "id": "a367dba2",
   "metadata": {},
   "source": [
    "### random Forest with Scaling"
   ]
  },
  {
   "cell_type": "code",
   "execution_count": 92,
   "id": "90846a65",
   "metadata": {},
   "outputs": [
    {
     "name": "stdout",
     "output_type": "stream",
     "text": [
      "Number of Estimators: 50\n",
      "Confusion Matrix:\n",
      " [[5421 4658]\n",
      " [5400 4521]]\n",
      "\n",
      "Classification Report:\n",
      "               precision    recall  f1-score   support\n",
      "\n",
      "           0       0.50      0.54      0.52     10079\n",
      "           1       0.49      0.46      0.47      9921\n",
      "\n",
      "    accuracy                           0.50     20000\n",
      "   macro avg       0.50      0.50      0.50     20000\n",
      "weighted avg       0.50      0.50      0.50     20000\n",
      "\n",
      "---------------------------\n",
      "Number of Estimators: 100\n",
      "Confusion Matrix:\n",
      " [[5317 4762]\n",
      " [5208 4713]]\n",
      "\n",
      "Classification Report:\n",
      "               precision    recall  f1-score   support\n",
      "\n",
      "           0       0.51      0.53      0.52     10079\n",
      "           1       0.50      0.48      0.49      9921\n",
      "\n",
      "    accuracy                           0.50     20000\n",
      "   macro avg       0.50      0.50      0.50     20000\n",
      "weighted avg       0.50      0.50      0.50     20000\n",
      "\n",
      "---------------------------\n",
      "Number of Estimators: 150\n",
      "Confusion Matrix:\n",
      " [[5228 4851]\n",
      " [5228 4693]]\n",
      "\n",
      "Classification Report:\n",
      "               precision    recall  f1-score   support\n",
      "\n",
      "           0       0.50      0.52      0.51     10079\n",
      "           1       0.49      0.47      0.48      9921\n",
      "\n",
      "    accuracy                           0.50     20000\n",
      "   macro avg       0.50      0.50      0.50     20000\n",
      "weighted avg       0.50      0.50      0.50     20000\n",
      "\n",
      "---------------------------\n",
      "Number of Estimators: 200\n",
      "Confusion Matrix:\n",
      " [[5218 4861]\n",
      " [5213 4708]]\n",
      "\n",
      "Classification Report:\n",
      "               precision    recall  f1-score   support\n",
      "\n",
      "           0       0.50      0.52      0.51     10079\n",
      "           1       0.49      0.47      0.48      9921\n",
      "\n",
      "    accuracy                           0.50     20000\n",
      "   macro avg       0.50      0.50      0.50     20000\n",
      "weighted avg       0.50      0.50      0.50     20000\n",
      "\n",
      "---------------------------\n"
     ]
    }
   ],
   "source": [
    "\n",
    "# Different values of n_estimators to try\n",
    "n_estimators_values = [50, 100, 150, 200]\n",
    "\n",
    "# Iterate over different n_estimators\n",
    "for n_estimators in n_estimators_values:\n",
    "    print(f\"Number of Estimators: {n_estimators}\")\n",
    "    \n",
    "    # Create a Random Forest Classifier with current n_estimators\n",
    "    rf_model = RandomForestClassifier(n_estimators=n_estimators, random_state=42)\n",
    "\n",
    "    # Fit the model on the training data\n",
    "    rf_model.fit(X_train_scaled, y_train)\n",
    "\n",
    "    # Predict on the test data\n",
    "    # Scale the test data using the same scaler\n",
    "    X_test_scaled = scaler.transform(X_test)\n",
    "\n",
    "    # Predict on the scaled test data\n",
    "    y_pred = rf_model.predict(X_test_scaled)\n",
    "\n",
    "    # Generate a confusion matrix\n",
    "    conf_matrix = confusion_matrix(y_test, y_pred)\n",
    "    print(\"Confusion Matrix:\\n\", conf_matrix)\n",
    "\n",
    "    # Generate a classification report\n",
    "    class_report = classification_report(y_test, y_pred)\n",
    "    print(\"\\nClassification Report:\\n\", class_report)\n",
    "    print(\"---------------------------\")\n"
   ]
  },
  {
   "cell_type": "markdown",
   "id": "c303c146",
   "metadata": {},
   "source": [
    "###  Conclusion :Random Forest doesnt work good on both scaled and unscaled data"
   ]
  },
  {
   "cell_type": "markdown",
   "id": "866c4491",
   "metadata": {},
   "source": [
    "### Logistic regression without scaling"
   ]
  },
  {
   "cell_type": "code",
   "execution_count": 93,
   "id": "69f584cc",
   "metadata": {},
   "outputs": [
    {
     "name": "stdout",
     "output_type": "stream",
     "text": [
      "Confusion Matrix (Original Data):\n",
      " [[6067 4012]\n",
      " [6046 3875]]\n",
      "\n",
      "Classification Report:\n",
      "               precision    recall  f1-score   support\n",
      "\n",
      "           0       0.50      0.60      0.55     10079\n",
      "           1       0.49      0.39      0.44      9921\n",
      "\n",
      "    accuracy                           0.50     20000\n",
      "   macro avg       0.50      0.50      0.49     20000\n",
      "weighted avg       0.50      0.50      0.49     20000\n",
      "\n",
      "---------------------------\n"
     ]
    }
   ],
   "source": [
    "from sklearn.linear_model import LogisticRegression\n",
    "\n",
    "# Create a Logistic Regression model\n",
    "logreg_model = LogisticRegression(random_state=42)\n",
    "\n",
    "# Fit the model on the original training data\n",
    "logreg_model.fit(X_train, y_train)\n",
    "\n",
    "# Predict on the test data\n",
    "y_pred_logreg = logreg_model.predict(X_test)\n",
    "\n",
    "# Generate a confusion matrix for original data\n",
    "conf_matrix_logreg = confusion_matrix(y_test, y_pred_logreg)\n",
    "\n",
    "# Display the confusion matrix\n",
    "print(\"Confusion Matrix (Original Data):\\n\", conf_matrix_logreg)\n",
    "class_report = classification_report(y_test, y_pred_logreg )\n",
    "print(\"\\nClassification Report:\\n\", class_report)\n",
    "print(\"---------------------------\")\n"
   ]
  },
  {
   "cell_type": "markdown",
   "id": "95371c53",
   "metadata": {},
   "source": [
    "### Logistic regression with scaling"
   ]
  },
  {
   "cell_type": "code",
   "execution_count": 94,
   "id": "13144e81",
   "metadata": {},
   "outputs": [
    {
     "name": "stdout",
     "output_type": "stream",
     "text": [
      "Confusion Matrix (Scaled Data):\n",
      " [[6269 3810]\n",
      " [6144 3777]]\n"
     ]
    }
   ],
   "source": [
    "# Create a Logistic Regression model\n",
    "logreg_model_scaled = LogisticRegression(random_state=42)\n",
    "\n",
    "# Fit the model on the scaled training data\n",
    "logreg_model_scaled.fit(X_train_scaled, y_train)\n",
    "\n",
    "# Scale the test data using the same scaler\n",
    "X_test_scaled = scaler.transform(X_test)\n",
    "\n",
    "# Predict on the scaled test data\n",
    "y_pred_logreg_scaled = logreg_model_scaled.predict(X_test_scaled)\n",
    "\n",
    "# Generate a confusion matrix for scaled data\n",
    "conf_matrix_logreg_scaled = confusion_matrix(y_test, y_pred_logreg_scaled)\n",
    "\n",
    "# Display the confusion matrix\n",
    "print(\"Confusion Matrix (Scaled Data):\\n\", conf_matrix_logreg_scaled)\n"
   ]
  },
  {
   "cell_type": "code",
   "execution_count": 95,
   "id": "7148a140",
   "metadata": {},
   "outputs": [
    {
     "name": "stdout",
     "output_type": "stream",
     "text": [
      "\n",
      "Classification Report:\n",
      "               precision    recall  f1-score   support\n",
      "\n",
      "           0       0.51      0.62      0.56     10079\n",
      "           1       0.50      0.38      0.43      9921\n",
      "\n",
      "    accuracy                           0.50     20000\n",
      "   macro avg       0.50      0.50      0.49     20000\n",
      "weighted avg       0.50      0.50      0.49     20000\n",
      "\n",
      "---------------------------\n"
     ]
    }
   ],
   "source": [
    "class_report = classification_report(y_test,y_pred_logreg_scaled )\n",
    "print(\"\\nClassification Report:\\n\", class_report)\n",
    "print(\"---------------------------\")\n"
   ]
  },
  {
   "cell_type": "markdown",
   "id": "44f45443",
   "metadata": {},
   "source": [
    "### naive bayes on unscaled data"
   ]
  },
  {
   "cell_type": "code",
   "execution_count": 96,
   "id": "32524d75",
   "metadata": {},
   "outputs": [
    {
     "name": "stdout",
     "output_type": "stream",
     "text": [
      "Confusion Matrix (Original Data):\n",
      " [[6416 3663]\n",
      " [6305 3616]]\n",
      "Classification Report (Scaled Data):\n",
      "               precision    recall  f1-score   support\n",
      "\n",
      "           0       0.50      0.64      0.56     10079\n",
      "           1       0.50      0.36      0.42      9921\n",
      "\n",
      "    accuracy                           0.50     20000\n",
      "   macro avg       0.50      0.50      0.49     20000\n",
      "weighted avg       0.50      0.50      0.49     20000\n",
      "\n"
     ]
    }
   ],
   "source": [
    "from sklearn.naive_bayes import GaussianNB\n",
    "from sklearn.metrics import confusion_matrix, classification_report\n",
    "\n",
    "# Create a Gaussian Naive Bayes model\n",
    "naive_bayes_model = GaussianNB()\n",
    "\n",
    "# Fit the model on the original training data\n",
    "naive_bayes_model.fit(X_train, y_train)\n",
    "\n",
    "# Predict on the test data\n",
    "y_pred_naive_bayes = naive_bayes_model.predict(X_test)\n",
    "\n",
    "# Generate a confusion matrix for original data\n",
    "conf_matrix_naive_bayes = confusion_matrix(y_test, y_pred_naive_bayes)\n",
    "\n",
    "# Display the confusion matrix\n",
    "print(\"Confusion Matrix (Original Data):\\n\", conf_matrix_naive_bayes)\n",
    "class_report_naive_bayes = classification_report(y_test, y_pred_naive_bayes)\n",
    "print(\"Classification Report (Scaled Data):\\n\", class_report_naive_bayes)"
   ]
  },
  {
   "cell_type": "markdown",
   "id": "800e9ecc",
   "metadata": {},
   "source": [
    "### Naive bayes on scaled data"
   ]
  },
  {
   "cell_type": "code",
   "execution_count": 97,
   "id": "6f0126fa",
   "metadata": {},
   "outputs": [
    {
     "name": "stdout",
     "output_type": "stream",
     "text": [
      "Classification Report (Scaled Data):\n",
      "               precision    recall  f1-score   support\n",
      "\n",
      "           0       0.50      0.64      0.56     10079\n",
      "           1       0.50      0.36      0.42      9921\n",
      "\n",
      "    accuracy                           0.50     20000\n",
      "   macro avg       0.50      0.50      0.49     20000\n",
      "weighted avg       0.50      0.50      0.49     20000\n",
      "\n",
      "Confusion Matrix (Scaled Data):\n",
      " [[6416 3663]\n",
      " [6305 3616]]\n"
     ]
    }
   ],
   "source": [
    "\n",
    "naive_bayes_model_scaled = GaussianNB()\n",
    "\n",
    "# Fit the model on the scaled training data\n",
    "naive_bayes_model_scaled.fit(X_train_scaled, y_train)\n",
    "\n",
    "# Scale the test data using the same scaler\n",
    "X_test_scaled = scaler.transform(X_test)\n",
    "\n",
    "# Predict on the scaled test data\n",
    "y_pred_naive_bayes_scaled = naive_bayes_model_scaled.predict(X_test_scaled)\n",
    "\n",
    "# Generate a classification report for scaled data\n",
    "class_report_naive_bayes_scaled= classification_report(y_test, y_pred_naive_bayes_scaled)\n",
    "\n",
    "# Display the classification report\n",
    "print(\"Classification Report (Scaled Data):\\n\", class_report_naive_bayes_scaled)\n",
    "\n",
    "# Generate a confusion matrix for scaled data\n",
    "conf_matrix_naive_bayes_scaled = confusion_matrix(y_test, y_pred_naive_bayes_scaled)\n",
    "\n",
    "# Display the confusion matrix\n",
    "print(\"Confusion Matrix (Scaled Data):\\n\", conf_matrix_naive_bayes_scaled)\n"
   ]
  },
  {
   "cell_type": "markdown",
   "id": "35b1896e",
   "metadata": {},
   "source": [
    "### KNN"
   ]
  },
  {
   "cell_type": "code",
   "execution_count": 98,
   "id": "6415e0b4",
   "metadata": {},
   "outputs": [
    {
     "name": "stdout",
     "output_type": "stream",
     "text": [
      "Confusion Matrix (Original Data):\n",
      " [[5115 4964]\n",
      " [5076 4845]]\n",
      "Classification Report (Scaled Data):\n",
      "               precision    recall  f1-score   support\n",
      "\n",
      "           0       0.50      0.51      0.50     10079\n",
      "           1       0.49      0.49      0.49      9921\n",
      "\n",
      "    accuracy                           0.50     20000\n",
      "   macro avg       0.50      0.50      0.50     20000\n",
      "weighted avg       0.50      0.50      0.50     20000\n",
      "\n"
     ]
    }
   ],
   "source": [
    "from sklearn.neighbors import KNeighborsClassifier\n",
    "from sklearn.metrics import confusion_matrix, classification_report\n",
    "\n",
    "# Create a KNN model\n",
    "knn_model = KNeighborsClassifier(n_neighbors=5)  # You can adjust the number of neighbors\n",
    "\n",
    "# Fit the model on the original training data\n",
    "knn_model.fit(X_train, y_train)\n",
    "\n",
    "# Predict on the test data\n",
    "y_pred_knn = knn_model.predict(X_test)\n",
    "\n",
    "# Generate a confusion matrix for original data\n",
    "conf_matrix_knn = confusion_matrix(y_test, y_pred_knn)\n",
    "\n",
    "# Display the confusion matrix\n",
    "print(\"Confusion Matrix (Original Data):\\n\", conf_matrix_knn)\n",
    "class_report_knn = classification_report(y_test, y_pred_knn)\n",
    "\n",
    "# Display the classification report\n",
    "print(\"Classification Report (Scaled Data):\\n\", class_report_knn)\n"
   ]
  },
  {
   "cell_type": "markdown",
   "id": "706104bd",
   "metadata": {},
   "source": [
    "### KNN on scaled"
   ]
  },
  {
   "cell_type": "code",
   "execution_count": 99,
   "id": "0dde1cbc",
   "metadata": {},
   "outputs": [
    {
     "name": "stdout",
     "output_type": "stream",
     "text": [
      "Classification Report (Scaled Data):\n",
      "               precision    recall  f1-score   support\n",
      "\n",
      "           0       0.50      0.50      0.50     10079\n",
      "           1       0.49      0.50      0.49      9921\n",
      "\n",
      "    accuracy                           0.50     20000\n",
      "   macro avg       0.50      0.50      0.50     20000\n",
      "weighted avg       0.50      0.50      0.50     20000\n",
      "\n",
      "Confusion Matrix (Scaled Data):\n",
      " [[5068 5011]\n",
      " [5010 4911]]\n"
     ]
    }
   ],
   "source": [
    "#Create a KNN model\n",
    "knn_model_scaled = KNeighborsClassifier(n_neighbors=5)  # You can adjust the number of neighbors\n",
    "\n",
    "# Fit the model on the scaled training data\n",
    "knn_model_scaled.fit(X_train_scaled, y_train)\n",
    "\n",
    "# Scale the test data using the same scaler\n",
    "X_test_scaled = scaler.transform(X_test)\n",
    "\n",
    "# Predict on the scaled test data\n",
    "y_pred_knn_scaled = knn_model_scaled.predict(X_test_scaled)\n",
    "\n",
    "# Generate a classification report for scaled data\n",
    "class_report_knn_scaled = classification_report(y_test, y_pred_knn_scaled)\n",
    "\n",
    "# Display the classification report\n",
    "print(\"Classification Report (Scaled Data):\\n\", class_report_knn_scaled)\n",
    "\n",
    "# Generate a confusion matrix for scaled data\n",
    "conf_matrix_knn_scaled = confusion_matrix(y_test, y_pred_knn_scaled)\n",
    "\n",
    "# Display the confusion matrix\n",
    "print(\"Confusion Matrix (Scaled Data):\\n\", conf_matrix_knn_scaled)\n"
   ]
  },
  {
   "cell_type": "markdown",
   "id": "f67d0137",
   "metadata": {},
   "source": [
    "### decision tree"
   ]
  },
  {
   "cell_type": "code",
   "execution_count": 100,
   "id": "b658416e",
   "metadata": {},
   "outputs": [
    {
     "name": "stdout",
     "output_type": "stream",
     "text": [
      "Confusion Matrix (Original Data):\n",
      " [[5078 5001]\n",
      " [4954 4967]]\n"
     ]
    }
   ],
   "source": [
    "from sklearn.tree import DecisionTreeClassifier\n",
    "from sklearn.metrics import confusion_matrix, classification_report\n",
    "\n",
    "# Create a Decision Tree model\n",
    "dt_model = DecisionTreeClassifier(random_state=42)\n",
    "\n",
    "# Fit the model on the original training data\n",
    "dt_model.fit(X_train, y_train)\n",
    "\n",
    "# Predict on the test data\n",
    "y_pred_dt = dt_model.predict(X_test)\n",
    "\n",
    "# Generate a confusion matrix for original data\n",
    "conf_matrix_dt = confusion_matrix(y_test, y_pred_dt)\n",
    "\n",
    "# Display the confusion matrix\n",
    "print(\"Confusion Matrix (Original Data):\\n\", conf_matrix_dt)\n"
   ]
  },
  {
   "cell_type": "markdown",
   "id": "9bd783f0",
   "metadata": {},
   "source": [
    "### decison tree on scaled data"
   ]
  },
  {
   "cell_type": "code",
   "execution_count": 101,
   "id": "6c4f6e8e",
   "metadata": {},
   "outputs": [
    {
     "name": "stdout",
     "output_type": "stream",
     "text": [
      "Classification Report (Scaled Data):\n",
      "               precision    recall  f1-score   support\n",
      "\n",
      "           0       0.51      0.50      0.50     10079\n",
      "           1       0.50      0.50      0.50      9921\n",
      "\n",
      "    accuracy                           0.50     20000\n",
      "   macro avg       0.50      0.50      0.50     20000\n",
      "weighted avg       0.50      0.50      0.50     20000\n",
      "\n",
      "Confusion Matrix (Scaled Data):\n",
      " [[5064 5015]\n",
      " [4960 4961]]\n"
     ]
    }
   ],
   "source": [
    "\n",
    "# Create a Decision Tree model\n",
    "dt_model_scaled = DecisionTreeClassifier(random_state=42)\n",
    "\n",
    "# Fit the model on the scaled training data\n",
    "dt_model_scaled.fit(X_train_scaled, y_train)\n",
    "\n",
    "# Scale the test data using the same scaler\n",
    "X_test_scaled = scaler.transform(X_test)\n",
    "\n",
    "# Predict on the scaled test data\n",
    "y_pred_dt_scaled = dt_model_scaled.predict(X_test_scaled)\n",
    "\n",
    "# Generate a classification report for scaled data\n",
    "class_report_dt_scaled = classification_report(y_test, y_pred_dt_scaled)\n",
    "\n",
    "# Display the classification report\n",
    "print(\"Classification Report (Scaled Data):\\n\", class_report_dt_scaled)\n",
    "\n",
    "# Generate a confusion matrix for scaled data\n",
    "conf_matrix_dt_scaled = confusion_matrix(y_test, y_pred_dt_scaled)\n",
    "\n",
    "# Display the confusion matrix\n",
    "print(\"Confusion Matrix (Scaled Data):\\n\", conf_matrix_dt_scaled)\n"
   ]
  },
  {
   "cell_type": "markdown",
   "id": "fb52e281",
   "metadata": {},
   "source": [
    "### DT scaled"
   ]
  },
  {
   "cell_type": "code",
   "execution_count": 102,
   "id": "90d5a049",
   "metadata": {},
   "outputs": [
    {
     "name": "stdout",
     "output_type": "stream",
     "text": [
      "Classification Report (Scaled Data):\n",
      "               precision    recall  f1-score   support\n",
      "\n",
      "           0       0.51      0.50      0.50     10079\n",
      "           1       0.50      0.50      0.50      9921\n",
      "\n",
      "    accuracy                           0.50     20000\n",
      "   macro avg       0.50      0.50      0.50     20000\n",
      "weighted avg       0.50      0.50      0.50     20000\n",
      "\n",
      "Confusion Matrix (Scaled Data):\n",
      " [[5064 5015]\n",
      " [4960 4961]]\n"
     ]
    }
   ],
   "source": [
    "\n",
    "# Create a Decision Tree model\n",
    "dt_model_scaled = DecisionTreeClassifier(random_state=42)\n",
    "\n",
    "# Fit the model on the scaled training data\n",
    "dt_model_scaled.fit(X_train_scaled, y_train)\n",
    "\n",
    "# Scale the test data using the same scaler\n",
    "X_test_scaled = scaler.transform(X_test)\n",
    "\n",
    "# Predict on the scaled test data\n",
    "y_pred_dt_scaled = dt_model_scaled.predict(X_test_scaled)\n",
    "\n",
    "# Generate a classification report for scaled data\n",
    "class_report_dt_scaled = classification_report(y_test, y_pred_dt_scaled)\n",
    "\n",
    "# Display the classification report\n",
    "print(\"Classification Report (Scaled Data):\\n\", class_report_dt_scaled)\n",
    "\n",
    "# Generate a confusion matrix for scaled data\n",
    "conf_matrix_dt_scaled = confusion_matrix(y_test, y_pred_dt_scaled)\n",
    "\n",
    "# Display the confusion matrix\n",
    "print(\"Confusion Matrix (Scaled Data):\\n\", conf_matrix_dt_scaled)\n"
   ]
  },
  {
   "cell_type": "markdown",
   "id": "b1143f25",
   "metadata": {},
   "source": [
    "### Feed forward neural network"
   ]
  },
  {
   "cell_type": "code",
   "execution_count": 103,
   "id": "03034dc0",
   "metadata": {},
   "outputs": [],
   "source": [
    "import tensorflow as tf\n",
    "from tensorflow import keras"
   ]
  },
  {
   "cell_type": "code",
   "execution_count": 104,
   "id": "1724d11f",
   "metadata": {},
   "outputs": [
    {
     "name": "stdout",
     "output_type": "stream",
     "text": [
      "Epoch 1/20\n",
      "2000/2000 [==============================] - 4s 2ms/step - loss: 0.7789 - accuracy: 0.5032 - val_loss: 0.7315 - val_accuracy: 0.5020\n",
      "Epoch 2/20\n",
      "2000/2000 [==============================] - 3s 2ms/step - loss: 0.7290 - accuracy: 0.4994 - val_loss: 0.6966 - val_accuracy: 0.4958\n",
      "Epoch 3/20\n",
      "2000/2000 [==============================] - 2s 1ms/step - loss: 0.7164 - accuracy: 0.4973 - val_loss: 0.7344 - val_accuracy: 0.4956\n",
      "Epoch 4/20\n",
      "2000/2000 [==============================] - 3s 2ms/step - loss: 0.7068 - accuracy: 0.4990 - val_loss: 0.7033 - val_accuracy: 0.4964\n",
      "Epoch 5/20\n",
      "2000/2000 [==============================] - 3s 1ms/step - loss: 0.7022 - accuracy: 0.4995 - val_loss: 0.6944 - val_accuracy: 0.4969\n",
      "Epoch 6/20\n",
      "2000/2000 [==============================] - 2s 1ms/step - loss: 0.6975 - accuracy: 0.5038 - val_loss: 0.6960 - val_accuracy: 0.4976\n",
      "Epoch 7/20\n",
      "2000/2000 [==============================] - 3s 1ms/step - loss: 0.6950 - accuracy: 0.5000 - val_loss: 0.6939 - val_accuracy: 0.4992\n",
      "Epoch 8/20\n",
      "2000/2000 [==============================] - 3s 2ms/step - loss: 0.6935 - accuracy: 0.5005 - val_loss: 0.6933 - val_accuracy: 0.5002\n",
      "Epoch 9/20\n",
      "2000/2000 [==============================] - 3s 2ms/step - loss: 0.6931 - accuracy: 0.5008 - val_loss: 0.6933 - val_accuracy: 0.4971\n",
      "Epoch 10/20\n",
      "2000/2000 [==============================] - 4s 2ms/step - loss: 0.6931 - accuracy: 0.5023 - val_loss: 0.6936 - val_accuracy: 0.4957\n",
      "Epoch 11/20\n",
      "2000/2000 [==============================] - 3s 2ms/step - loss: 0.6931 - accuracy: 0.5016 - val_loss: 0.6932 - val_accuracy: 0.4959\n",
      "Epoch 12/20\n",
      "2000/2000 [==============================] - 4s 2ms/step - loss: 0.6931 - accuracy: 0.5005 - val_loss: 0.6933 - val_accuracy: 0.4954\n",
      "Epoch 13/20\n",
      "2000/2000 [==============================] - 3s 2ms/step - loss: 0.6931 - accuracy: 0.5035 - val_loss: 0.6936 - val_accuracy: 0.4949\n",
      "Epoch 14/20\n",
      "2000/2000 [==============================] - 4s 2ms/step - loss: 0.6931 - accuracy: 0.5028 - val_loss: 0.6933 - val_accuracy: 0.4955\n",
      "Epoch 15/20\n",
      "2000/2000 [==============================] - 4s 2ms/step - loss: 0.6931 - accuracy: 0.5022 - val_loss: 0.6934 - val_accuracy: 0.4952\n",
      "Epoch 16/20\n",
      "2000/2000 [==============================] - 3s 2ms/step - loss: 0.6931 - accuracy: 0.5036 - val_loss: 0.6934 - val_accuracy: 0.4954\n",
      "Epoch 17/20\n",
      "2000/2000 [==============================] - 3s 2ms/step - loss: 0.6931 - accuracy: 0.5030 - val_loss: 0.6936 - val_accuracy: 0.4949\n",
      "Epoch 18/20\n",
      "2000/2000 [==============================] - 3s 2ms/step - loss: 0.6931 - accuracy: 0.5028 - val_loss: 0.6933 - val_accuracy: 0.4955\n",
      "Epoch 19/20\n",
      "2000/2000 [==============================] - 3s 2ms/step - loss: 0.6931 - accuracy: 0.5044 - val_loss: 0.6933 - val_accuracy: 0.4953\n",
      "Epoch 20/20\n",
      "2000/2000 [==============================] - 3s 2ms/step - loss: 0.6931 - accuracy: 0.5033 - val_loss: 0.6933 - val_accuracy: 0.4952\n"
     ]
    },
    {
     "data": {
      "text/plain": [
       "<keras.src.callbacks.History at 0x1ca25f7a590>"
      ]
     },
     "execution_count": 104,
     "metadata": {},
     "output_type": "execute_result"
    }
   ],
   "source": [
    "model = keras.Sequential([\n",
    "    keras.layers.Dense(units=64, activation='relu', input_dim=X_train_scaled.shape[1]),\n",
    "    keras.layers.Dense(units=32, activation='relu'),\n",
    "    keras.layers.Dense(units=1, activation='sigmoid')\n",
    "])\n",
    "\n",
    "# Compile the model\n",
    "model.compile(optimizer='adam', loss='binary_crossentropy', metrics=['accuracy'])\n",
    "\n",
    "# Train the model\n",
    "model.fit(X_train, y_train, epochs=20, batch_size=32, validation_split=0.2)\n"
   ]
  },
  {
   "cell_type": "code",
   "execution_count": 105,
   "id": "a10a225b",
   "metadata": {
    "scrolled": true
   },
   "outputs": [
    {
     "name": "stdout",
     "output_type": "stream",
     "text": [
      "625/625 [==============================] - 1s 802us/step\n",
      "\n",
      "Classification Report:\n",
      "               precision    recall  f1-score   support\n",
      "\n",
      "           0       0.51      0.31      0.38     10079\n",
      "           1       0.50      0.70      0.58      9921\n",
      "\n",
      "    accuracy                           0.50     20000\n",
      "   macro avg       0.50      0.50      0.48     20000\n",
      "weighted avg       0.50      0.50      0.48     20000\n",
      "\n",
      "Confusion Matrix:\n",
      " [[3105 6974]\n",
      " [3002 6919]]\n"
     ]
    }
   ],
   "source": [
    "from sklearn.metrics import confusion_matrix, classification_report\n",
    "y_pred_prob = model.predict(X_test_scaled)  # Get continuous predictions\n",
    "\n",
    "# Convert continuous predictions to binary predictions\n",
    "y_pred_binary = (y_pred_prob > 0.5).astype(int)\n",
    "\n",
    "# Calculate confusion matrix and classification report\n",
    "conf_matrix = confusion_matrix(y_test, y_pred_binary)\n",
    "class_report = classification_report(y_test, y_pred_binary)\n",
    "\n",
    "print(\"\\nClassification Report:\\n\", class_report)\n",
    "print(\"Confusion Matrix:\\n\", conf_matrix)\n",
    "#print(\"\\nClassification Report:\\n\", class_report)"
   ]
  },
  {
   "cell_type": "code",
   "execution_count": 106,
   "id": "9b9996d7",
   "metadata": {},
   "outputs": [
    {
     "data": {
      "text/plain": [
       "array([[0.49975532],\n",
       "       [0.5067695 ],\n",
       "       [0.49975532],\n",
       "       ...,\n",
       "       [0.5046513 ],\n",
       "       [0.50794303],\n",
       "       [0.5041169 ]], dtype=float32)"
      ]
     },
     "execution_count": 106,
     "metadata": {},
     "output_type": "execute_result"
    }
   ],
   "source": [
    "y_pred_prob"
   ]
  },
  {
   "cell_type": "code",
   "execution_count": 107,
   "id": "b7e89546",
   "metadata": {},
   "outputs": [
    {
     "data": {
      "text/plain": [
       "array([[0],\n",
       "       [1],\n",
       "       [0],\n",
       "       ...,\n",
       "       [1],\n",
       "       [1],\n",
       "       [1]])"
      ]
     },
     "execution_count": 107,
     "metadata": {},
     "output_type": "execute_result"
    }
   ],
   "source": [
    "y_pred_binary"
   ]
  },
  {
   "cell_type": "markdown",
   "id": "1f85a595",
   "metadata": {},
   "source": [
    "### CNN"
   ]
  },
  {
   "cell_type": "code",
   "execution_count": 108,
   "id": "2c7e83e9",
   "metadata": {},
   "outputs": [],
   "source": [
    "X_train_reshaped = X_train_scaled.reshape(-1, X_train_scaled.shape[1], 1)\n",
    "X_test_reshaped = X_test_scaled.reshape(-1, X_test_scaled.shape[1], 1)"
   ]
  },
  {
   "cell_type": "code",
   "execution_count": 109,
   "id": "8976f174",
   "metadata": {},
   "outputs": [
    {
     "name": "stdout",
     "output_type": "stream",
     "text": [
      "Epoch 1/100\n",
      "2000/2000 [==============================] - 5s 2ms/step - loss: 0.6933 - accuracy: 0.5022 - val_loss: 0.6932 - val_accuracy: 0.4997\n",
      "Epoch 2/100\n",
      "2000/2000 [==============================] - 4s 2ms/step - loss: 0.6932 - accuracy: 0.5038 - val_loss: 0.6933 - val_accuracy: 0.4981\n",
      "Epoch 3/100\n",
      "2000/2000 [==============================] - 4s 2ms/step - loss: 0.6931 - accuracy: 0.5042 - val_loss: 0.6935 - val_accuracy: 0.4983\n",
      "Epoch 4/100\n",
      "2000/2000 [==============================] - 4s 2ms/step - loss: 0.6932 - accuracy: 0.5033 - val_loss: 0.6932 - val_accuracy: 0.5027\n",
      "Epoch 5/100\n",
      "2000/2000 [==============================] - 3s 2ms/step - loss: 0.6931 - accuracy: 0.5050 - val_loss: 0.6933 - val_accuracy: 0.4972\n",
      "Epoch 6/100\n",
      "2000/2000 [==============================] - 3s 2ms/step - loss: 0.6931 - accuracy: 0.5062 - val_loss: 0.6933 - val_accuracy: 0.4979\n",
      "Epoch 7/100\n",
      "2000/2000 [==============================] - 3s 1ms/step - loss: 0.6931 - accuracy: 0.5061 - val_loss: 0.6934 - val_accuracy: 0.4996\n",
      "Epoch 8/100\n",
      "2000/2000 [==============================] - 3s 2ms/step - loss: 0.6931 - accuracy: 0.5067 - val_loss: 0.6935 - val_accuracy: 0.4989\n",
      "Epoch 9/100\n",
      "2000/2000 [==============================] - 3s 2ms/step - loss: 0.6930 - accuracy: 0.5062 - val_loss: 0.6932 - val_accuracy: 0.5016\n",
      "625/625 [==============================] - 1s 883us/step\n",
      "Confusion Matrix:\n",
      " [[5026 5053]\n",
      " [4901 5020]]\n",
      "\n",
      "Classification Report:\n",
      "               precision    recall  f1-score   support\n",
      "\n",
      "           0       0.51      0.50      0.50     10079\n",
      "           1       0.50      0.51      0.50      9921\n",
      "\n",
      "    accuracy                           0.50     20000\n",
      "   macro avg       0.50      0.50      0.50     20000\n",
      "weighted avg       0.50      0.50      0.50     20000\n",
      "\n"
     ]
    }
   ],
   "source": [
    "from tensorflow.keras import layers\n",
    "from tensorflow.keras.callbacks import EarlyStopping\n",
    "# Build the CNN model\n",
    "model = keras.Sequential([\n",
    "    layers.Conv1D(filters=64, kernel_size=3, activation='relu', input_shape=(X_train_reshaped.shape[1], 1)),\n",
    "    layers.MaxPooling1D(pool_size=2),\n",
    "    layers.Flatten(),\n",
    "    layers.Dense(units=128, activation='relu'),\n",
    "    layers.Dense(units=1, activation='sigmoid')\n",
    "])\n",
    "\n",
    "# Compile the model\n",
    "model.compile(optimizer='adam', loss='binary_crossentropy', metrics=['accuracy'])\n",
    "early_stopping = EarlyStopping(monitor='val_loss', patience=5, restore_best_weights=True)\n",
    "\n",
    "# Train the model with early stopping\n",
    "history=model.fit(X_train_reshaped, y_train, epochs=100, batch_size=32, validation_split=0.2, callbacks=[early_stopping])\n",
    "\n",
    "# Evaluate the model on test data\n",
    "y_pred_prob = model.predict(X_test_reshaped)\n",
    "y_pred_binary = (y_pred_prob > 0.5).astype(int)\n",
    "\n",
    "conf_matrix = confusion_matrix(y_test, y_pred_binary)\n",
    "class_report = classification_report(y_test, y_pred_binary)\n",
    "\n",
    "print(\"Confusion Matrix:\\n\", conf_matrix)\n",
    "print(\"\\nClassification Report:\\n\", class_report)"
   ]
  },
  {
   "cell_type": "code",
   "execution_count": 110,
   "id": "4feb0ae0",
   "metadata": {},
   "outputs": [
    {
     "data": {
      "image/png": "[encoded data removed]",
      "text/plain": [
       "<Figure size 600x200 with 2 Axes>"
      ]
     },
     "metadata": {},
     "output_type": "display_data"
    }
   ],
   "source": [
    "plt.figure(figsize=(6, 2))\n",
    "\n",
    "# Plot validation accuracy\n",
    "plt.plot(history.history['val_accuracy'], label='Validation Accuracy')\n",
    "plt.xlabel('Epoch')\n",
    "plt.ylabel('Accuracy')\n",
    "plt.title('Validation Accuracy and Loss')\n",
    "plt.legend()\n",
    "\n",
    "# Add a twin y-axis for validation loss\n",
    "plt.twinx()\n",
    "plt.plot(history.history['val_loss'], label='Validation Loss', color='r')\n",
    "plt.ylabel('Loss')\n",
    "plt.legend()\n",
    "\n",
    "plt.show()"
   ]
  },
  {
   "cell_type": "markdown",
   "id": "a68022f3",
   "metadata": {},
   "source": [
    "### CNN_64batch"
   ]
  },
  {
   "cell_type": "code",
   "execution_count": 111,
   "id": "cc8ed172",
   "metadata": {},
   "outputs": [
    {
     "name": "stdout",
     "output_type": "stream",
     "text": [
      "Epoch 1/100\n",
      "1000/1000 [==============================] - 2s 2ms/step - loss: 0.6936 - accuracy: 0.5025 - val_loss: 0.6933 - val_accuracy: 0.4976\n",
      "Epoch 2/100\n",
      "1000/1000 [==============================] - 2s 2ms/step - loss: 0.6932 - accuracy: 0.5022 - val_loss: 0.6932 - val_accuracy: 0.5006\n",
      "Epoch 3/100\n",
      "1000/1000 [==============================] - 2s 2ms/step - loss: 0.6931 - accuracy: 0.5070 - val_loss: 0.6936 - val_accuracy: 0.4964\n",
      "Epoch 4/100\n",
      "1000/1000 [==============================] - 2s 2ms/step - loss: 0.6931 - accuracy: 0.5079 - val_loss: 0.6932 - val_accuracy: 0.5009\n",
      "Epoch 5/100\n",
      "1000/1000 [==============================] - 2s 2ms/step - loss: 0.6931 - accuracy: 0.5056 - val_loss: 0.6933 - val_accuracy: 0.4997\n",
      "625/625 [==============================] - 1s 1ms/step\n",
      "Confusion Matrix:\n",
      " [[4998 5081]\n",
      " [4838 5083]]\n",
      "\n",
      "Classification Report:\n",
      "               precision    recall  f1-score   support\n",
      "\n",
      "           0       0.51      0.50      0.50     10079\n",
      "           1       0.50      0.51      0.51      9921\n",
      "\n",
      "    accuracy                           0.50     20000\n",
      "   macro avg       0.50      0.50      0.50     20000\n",
      "weighted avg       0.50      0.50      0.50     20000\n",
      "\n"
     ]
    }
   ],
   "source": [
    "#Fine tuning\n",
    "from tensorflow.keras import layers\n",
    "from tensorflow.keras.callbacks import EarlyStopping\n",
    "# Build the CNN model\n",
    "model = keras.Sequential([\n",
    "    layers.Conv1D(filters=64, kernel_size=3, activation='relu', input_shape=(X_train_reshaped.shape[1], 1)),\n",
    "    layers.MaxPooling1D(pool_size=2),\n",
    "    layers.Flatten(),\n",
    "    layers.Dense(units=128, activation='relu'),\n",
    "    layers.Dense(units=1, activation='sigmoid')\n",
    "])\n",
    "\n",
    "# Compile the model\n",
    "model.compile(optimizer='adam', loss='binary_crossentropy', metrics=['accuracy'])\n",
    "early_stopping = EarlyStopping(monitor='val_loss', patience=3, restore_best_weights=True)\n",
    "\n",
    "# Train the model with early stopping\n",
    "history=model.fit(X_train_reshaped, y_train, epochs=100, batch_size=64, validation_split=0.2, callbacks=[early_stopping])\n",
    "\n",
    "# Evaluate the model on test data\n",
    "y_pred_prob = model.predict(X_test_reshaped)\n",
    "y_pred_binary = (y_pred_prob > 0.5).astype(int)\n",
    "\n",
    "conf_matrix = confusion_matrix(y_test, y_pred_binary)\n",
    "class_report = classification_report(y_test, y_pred_binary)\n",
    "\n",
    "print(\"Confusion Matrix:\\n\", conf_matrix)\n",
    "print(\"\\nClassification Report:\\n\", class_report)"
   ]
  },
  {
   "cell_type": "code",
   "execution_count": 112,
   "id": "aeba20a1",
   "metadata": {},
   "outputs": [
    {
     "data": {
      "image/png": "[encoded data removed]",
      "text/plain": [
       "<Figure size 600x200 with 2 Axes>"
      ]
     },
     "metadata": {},
     "output_type": "display_data"
    }
   ],
   "source": [
    "plt.figure(figsize=(6, 2))\n",
    "\n",
    "# Plot validation accuracy\n",
    "plt.plot(history.history['val_accuracy'], label='Validation Accuracy')\n",
    "plt.xlabel('Epoch')\n",
    "plt.ylabel('Accuracy')\n",
    "plt.title('Validation Accuracy and Loss')\n",
    "plt.legend()\n",
    "\n",
    "# Add a twin y-axis for validation loss\n",
    "plt.twinx()\n",
    "plt.plot(history.history['val_loss'], label='Validation Loss', color='r')\n",
    "plt.ylabel('Loss')\n",
    "plt.legend()\n",
    "\n",
    "plt.show()"
   ]
  },
  {
   "cell_type": "markdown",
   "id": "e00cbe32",
   "metadata": {},
   "source": [
    "### Random forest with cross validation"
   ]
  },
  {
   "cell_type": "code",
   "execution_count": 113,
   "id": "b188bf49",
   "metadata": {},
   "outputs": [
    {
     "name": "stdout",
     "output_type": "stream",
     "text": [
      "Cross-Validation Scores: [0.4954375 0.492875  0.490125  0.4975625 0.5038125]\n",
      "Mean CV Score: 0.4959625\n",
      "Confusion Matrix:\n",
      " [[5319 4760]\n",
      " [5236 4685]]\n",
      "\n",
      "Classification Report:\n",
      "               precision    recall  f1-score   support\n",
      "\n",
      "           0       0.50      0.53      0.52     10079\n",
      "           1       0.50      0.47      0.48      9921\n",
      "\n",
      "    accuracy                           0.50     20000\n",
      "   macro avg       0.50      0.50      0.50     20000\n",
      "weighted avg       0.50      0.50      0.50     20000\n",
      "\n"
     ]
    }
   ],
   "source": [
    "\n",
    "from sklearn.model_selection import train_test_split, cross_val_score\n",
    "from sklearn.ensemble import RandomForestClassifier\n",
    "from sklearn.metrics import confusion_matrix, classification_report\n",
    "\n",
    "\n",
    "rf_model = RandomForestClassifier(random_state=42)\n",
    "\n",
    "# Perform cross-validation\n",
    "cross_val_scores = cross_val_score(rf_model, X_train, y_train, cv=5, scoring='accuracy')\n",
    "\n",
    "print(\"Cross-Validation Scores:\", cross_val_scores)\n",
    "print(\"Mean CV Score:\", cross_val_scores.mean())\n",
    "\n",
    "# Fit the model on the training data\n",
    "rf_model.fit(X_train, y_train)\n",
    "\n",
    "# Predict on the test data\n",
    "y_pred = rf_model.predict(X_test)\n",
    "\n",
    "# Generate a confusion matrix\n",
    "conf_matrix = confusion_matrix(y_test, y_pred)\n",
    "\n",
    "# Display the confusion matrix\n",
    "print(\"Confusion Matrix:\\n\", conf_matrix)\n",
    "\n",
    "# Generate a classification report\n",
    "class_report = classification_report(y_test, y_pred)\n",
    "\n",
    "# Display the classification report\n",
    "print(\"\\nClassification Report:\\n\", class_report)\n"
   ]
  },
  {
   "cell_type": "markdown",
   "id": "181558be",
   "metadata": {},
   "source": [
    "### ALL THE MODELS ARE GIVING ONLY 50% ACCURACY"
   ]
  },
  {
   "cell_type": "markdown",
   "id": "b7c9a502",
   "metadata": {},
   "source": [
    "### Predicting values"
   ]
  },
  {
   "cell_type": "code",
   "execution_count": 114,
   "id": "46071b5a",
   "metadata": {},
   "outputs": [
    {
     "name": "stdout",
     "output_type": "stream",
     "text": [
      "Enter Age: 35\n",
      "Enter Gender (Male[1]/Female[0]): 1\n",
      "Enter Location: 2\n",
      "Enter Subscription Length (in months): 5\n",
      "Enter Monthly Bill: 248\n",
      "Enter Total Usage (in GB): 345\n",
      "Predicted Churn: No\n"
     ]
    }
   ],
   "source": [
    "# Input new data for prediction\n",
    "new_age = float(input(\"Enter Age: \"))\n",
    "new_gender = input(\"Enter Gender (Male[1]/Female[0]): \")\n",
    "new_location = input(\"Enter Location: \")\n",
    "new_subscription_length = float(input(\"Enter Subscription Length (in months): \"))\n",
    "new_monthly_bill = float(input(\"Enter Monthly Bill: \"))\n",
    "new_total_usage = float(input(\"Enter Total Usage (in GB): \"))\n",
    "\n",
    "# Create a new DataFrame with the input data\n",
    "new_data = pd.DataFrame([[new_age, new_gender, new_location, new_subscription_length, new_monthly_bill, new_total_usage]],\n",
    "                        columns=['Age', 'Gender', 'Location', 'Subscription_Length_Months', 'Monthly_Bill', 'Total_Usage_GB'])\n",
    "\n",
    "# Make a prediction using the trained model\n",
    "predicted_churn = rf_model.predict(new_data)\n",
    "\n",
    "if predicted_churn == 0:\n",
    "    print(\"Predicted Churn: No\")\n",
    "else:\n",
    "    print(\"Predicted Churn: Yes\")"
   ]
  },
  {
   "cell_type": "code",
   "execution_count": null,
   "id": "d192cf31",
   "metadata": {},
   "outputs": [],
   "source": []
  }
 ],
 "metadata": {
  "kernelspec": {
   "display_name": "Python 3 (ipykernel)",
   "language": "python",
   "name": "python3"
  },
  "language_info": {
   "codemirror_mode": {
    "name": "ipython",
    "version": 3
   },
   "file_extension": ".py",
   "mimetype": "text/x-python",
   "name": "python",
   "nbconvert_exporter": "python",
   "pygments_lexer": "ipython3",
   "version": "3.11.4"
  }
 },
 "nbformat": 4,
 "nbformat_minor": 5
}
